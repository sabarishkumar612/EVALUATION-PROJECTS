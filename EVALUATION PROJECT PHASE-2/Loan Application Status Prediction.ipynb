{
 "cells": [
  {
   "cell_type": "code",
   "execution_count": 62,
   "id": "4d6f4c87",
   "metadata": {},
   "outputs": [],
   "source": [
    "#IMPORTING THE REQUIRED LIBRARIES\n",
    "import numpy as np\n",
    "import pandas as pd\n",
    "import matplotlib.pyplot as plt\n",
    "import seaborn as sns\n",
    "import warnings\n",
    "warnings.filterwarnings('ignore')"
   ]
  },
  {
   "cell_type": "code",
   "execution_count": 63,
   "id": "0811980d",
   "metadata": {},
   "outputs": [
    {
     "data": {
      "text/html": [
       "<div>\n",
       "<style scoped>\n",
       "    .dataframe tbody tr th:only-of-type {\n",
       "        vertical-align: middle;\n",
       "    }\n",
       "\n",
       "    .dataframe tbody tr th {\n",
       "        vertical-align: top;\n",
       "    }\n",
       "\n",
       "    .dataframe thead th {\n",
       "        text-align: right;\n",
       "    }\n",
       "</style>\n",
       "<table border=\"1\" class=\"dataframe\">\n",
       "  <thead>\n",
       "    <tr style=\"text-align: right;\">\n",
       "      <th></th>\n",
       "      <th>Loan_ID</th>\n",
       "      <th>Gender</th>\n",
       "      <th>Married</th>\n",
       "      <th>Dependents</th>\n",
       "      <th>Education</th>\n",
       "      <th>Self_Employed</th>\n",
       "      <th>ApplicantIncome</th>\n",
       "      <th>CoapplicantIncome</th>\n",
       "      <th>LoanAmount</th>\n",
       "      <th>Loan_Amount_Term</th>\n",
       "      <th>Credit_History</th>\n",
       "      <th>Property_Area</th>\n",
       "      <th>Loan_Status</th>\n",
       "    </tr>\n",
       "  </thead>\n",
       "  <tbody>\n",
       "    <tr>\n",
       "      <th>0</th>\n",
       "      <td>LP001002</td>\n",
       "      <td>Male</td>\n",
       "      <td>No</td>\n",
       "      <td>0</td>\n",
       "      <td>Graduate</td>\n",
       "      <td>No</td>\n",
       "      <td>5849</td>\n",
       "      <td>0.0</td>\n",
       "      <td>NaN</td>\n",
       "      <td>360.0</td>\n",
       "      <td>1.0</td>\n",
       "      <td>Urban</td>\n",
       "      <td>Y</td>\n",
       "    </tr>\n",
       "    <tr>\n",
       "      <th>1</th>\n",
       "      <td>LP001003</td>\n",
       "      <td>Male</td>\n",
       "      <td>Yes</td>\n",
       "      <td>1</td>\n",
       "      <td>Graduate</td>\n",
       "      <td>No</td>\n",
       "      <td>4583</td>\n",
       "      <td>1508.0</td>\n",
       "      <td>128.0</td>\n",
       "      <td>360.0</td>\n",
       "      <td>1.0</td>\n",
       "      <td>Rural</td>\n",
       "      <td>N</td>\n",
       "    </tr>\n",
       "    <tr>\n",
       "      <th>2</th>\n",
       "      <td>LP001005</td>\n",
       "      <td>Male</td>\n",
       "      <td>Yes</td>\n",
       "      <td>0</td>\n",
       "      <td>Graduate</td>\n",
       "      <td>Yes</td>\n",
       "      <td>3000</td>\n",
       "      <td>0.0</td>\n",
       "      <td>66.0</td>\n",
       "      <td>360.0</td>\n",
       "      <td>1.0</td>\n",
       "      <td>Urban</td>\n",
       "      <td>Y</td>\n",
       "    </tr>\n",
       "    <tr>\n",
       "      <th>3</th>\n",
       "      <td>LP001006</td>\n",
       "      <td>Male</td>\n",
       "      <td>Yes</td>\n",
       "      <td>0</td>\n",
       "      <td>Not Graduate</td>\n",
       "      <td>No</td>\n",
       "      <td>2583</td>\n",
       "      <td>2358.0</td>\n",
       "      <td>120.0</td>\n",
       "      <td>360.0</td>\n",
       "      <td>1.0</td>\n",
       "      <td>Urban</td>\n",
       "      <td>Y</td>\n",
       "    </tr>\n",
       "    <tr>\n",
       "      <th>4</th>\n",
       "      <td>LP001008</td>\n",
       "      <td>Male</td>\n",
       "      <td>No</td>\n",
       "      <td>0</td>\n",
       "      <td>Graduate</td>\n",
       "      <td>No</td>\n",
       "      <td>6000</td>\n",
       "      <td>0.0</td>\n",
       "      <td>141.0</td>\n",
       "      <td>360.0</td>\n",
       "      <td>1.0</td>\n",
       "      <td>Urban</td>\n",
       "      <td>Y</td>\n",
       "    </tr>\n",
       "    <tr>\n",
       "      <th>...</th>\n",
       "      <td>...</td>\n",
       "      <td>...</td>\n",
       "      <td>...</td>\n",
       "      <td>...</td>\n",
       "      <td>...</td>\n",
       "      <td>...</td>\n",
       "      <td>...</td>\n",
       "      <td>...</td>\n",
       "      <td>...</td>\n",
       "      <td>...</td>\n",
       "      <td>...</td>\n",
       "      <td>...</td>\n",
       "      <td>...</td>\n",
       "    </tr>\n",
       "    <tr>\n",
       "      <th>609</th>\n",
       "      <td>LP002978</td>\n",
       "      <td>Female</td>\n",
       "      <td>No</td>\n",
       "      <td>0</td>\n",
       "      <td>Graduate</td>\n",
       "      <td>No</td>\n",
       "      <td>2900</td>\n",
       "      <td>0.0</td>\n",
       "      <td>71.0</td>\n",
       "      <td>360.0</td>\n",
       "      <td>1.0</td>\n",
       "      <td>Rural</td>\n",
       "      <td>Y</td>\n",
       "    </tr>\n",
       "    <tr>\n",
       "      <th>610</th>\n",
       "      <td>LP002979</td>\n",
       "      <td>Male</td>\n",
       "      <td>Yes</td>\n",
       "      <td>3+</td>\n",
       "      <td>Graduate</td>\n",
       "      <td>No</td>\n",
       "      <td>4106</td>\n",
       "      <td>0.0</td>\n",
       "      <td>40.0</td>\n",
       "      <td>180.0</td>\n",
       "      <td>1.0</td>\n",
       "      <td>Rural</td>\n",
       "      <td>Y</td>\n",
       "    </tr>\n",
       "    <tr>\n",
       "      <th>611</th>\n",
       "      <td>LP002983</td>\n",
       "      <td>Male</td>\n",
       "      <td>Yes</td>\n",
       "      <td>1</td>\n",
       "      <td>Graduate</td>\n",
       "      <td>No</td>\n",
       "      <td>8072</td>\n",
       "      <td>240.0</td>\n",
       "      <td>253.0</td>\n",
       "      <td>360.0</td>\n",
       "      <td>1.0</td>\n",
       "      <td>Urban</td>\n",
       "      <td>Y</td>\n",
       "    </tr>\n",
       "    <tr>\n",
       "      <th>612</th>\n",
       "      <td>LP002984</td>\n",
       "      <td>Male</td>\n",
       "      <td>Yes</td>\n",
       "      <td>2</td>\n",
       "      <td>Graduate</td>\n",
       "      <td>No</td>\n",
       "      <td>7583</td>\n",
       "      <td>0.0</td>\n",
       "      <td>187.0</td>\n",
       "      <td>360.0</td>\n",
       "      <td>1.0</td>\n",
       "      <td>Urban</td>\n",
       "      <td>Y</td>\n",
       "    </tr>\n",
       "    <tr>\n",
       "      <th>613</th>\n",
       "      <td>LP002990</td>\n",
       "      <td>Female</td>\n",
       "      <td>No</td>\n",
       "      <td>0</td>\n",
       "      <td>Graduate</td>\n",
       "      <td>Yes</td>\n",
       "      <td>4583</td>\n",
       "      <td>0.0</td>\n",
       "      <td>133.0</td>\n",
       "      <td>360.0</td>\n",
       "      <td>0.0</td>\n",
       "      <td>Semiurban</td>\n",
       "      <td>N</td>\n",
       "    </tr>\n",
       "  </tbody>\n",
       "</table>\n",
       "<p>614 rows × 13 columns</p>\n",
       "</div>"
      ],
      "text/plain": [
       "      Loan_ID  Gender Married Dependents     Education Self_Employed  \\\n",
       "0    LP001002    Male      No          0      Graduate            No   \n",
       "1    LP001003    Male     Yes          1      Graduate            No   \n",
       "2    LP001005    Male     Yes          0      Graduate           Yes   \n",
       "3    LP001006    Male     Yes          0  Not Graduate            No   \n",
       "4    LP001008    Male      No          0      Graduate            No   \n",
       "..        ...     ...     ...        ...           ...           ...   \n",
       "609  LP002978  Female      No          0      Graduate            No   \n",
       "610  LP002979    Male     Yes         3+      Graduate            No   \n",
       "611  LP002983    Male     Yes          1      Graduate            No   \n",
       "612  LP002984    Male     Yes          2      Graduate            No   \n",
       "613  LP002990  Female      No          0      Graduate           Yes   \n",
       "\n",
       "     ApplicantIncome  CoapplicantIncome  LoanAmount  Loan_Amount_Term  \\\n",
       "0               5849                0.0         NaN             360.0   \n",
       "1               4583             1508.0       128.0             360.0   \n",
       "2               3000                0.0        66.0             360.0   \n",
       "3               2583             2358.0       120.0             360.0   \n",
       "4               6000                0.0       141.0             360.0   \n",
       "..               ...                ...         ...               ...   \n",
       "609             2900                0.0        71.0             360.0   \n",
       "610             4106                0.0        40.0             180.0   \n",
       "611             8072              240.0       253.0             360.0   \n",
       "612             7583                0.0       187.0             360.0   \n",
       "613             4583                0.0       133.0             360.0   \n",
       "\n",
       "     Credit_History Property_Area Loan_Status  \n",
       "0               1.0         Urban           Y  \n",
       "1               1.0         Rural           N  \n",
       "2               1.0         Urban           Y  \n",
       "3               1.0         Urban           Y  \n",
       "4               1.0         Urban           Y  \n",
       "..              ...           ...         ...  \n",
       "609             1.0         Rural           Y  \n",
       "610             1.0         Rural           Y  \n",
       "611             1.0         Urban           Y  \n",
       "612             1.0         Urban           Y  \n",
       "613             0.0     Semiurban           N  \n",
       "\n",
       "[614 rows x 13 columns]"
      ]
     },
     "execution_count": 63,
     "metadata": {},
     "output_type": "execute_result"
    }
   ],
   "source": [
    "ds1 = pd.read_csv('loans.csv')\n",
    "ds1"
   ]
  },
  {
   "cell_type": "code",
   "execution_count": 64,
   "id": "7d460215",
   "metadata": {},
   "outputs": [
    {
     "data": {
      "text/plain": [
       "(614, 13)"
      ]
     },
     "execution_count": 64,
     "metadata": {},
     "output_type": "execute_result"
    }
   ],
   "source": [
    "ds1.shape"
   ]
  },
  {
   "cell_type": "code",
   "execution_count": 65,
   "id": "de8e8965",
   "metadata": {},
   "outputs": [
    {
     "data": {
      "text/plain": [
       "Loan_ID               object\n",
       "Gender                object\n",
       "Married               object\n",
       "Dependents            object\n",
       "Education             object\n",
       "Self_Employed         object\n",
       "ApplicantIncome        int64\n",
       "CoapplicantIncome    float64\n",
       "LoanAmount           float64\n",
       "Loan_Amount_Term     float64\n",
       "Credit_History       float64\n",
       "Property_Area         object\n",
       "Loan_Status           object\n",
       "dtype: object"
      ]
     },
     "execution_count": 65,
     "metadata": {},
     "output_type": "execute_result"
    }
   ],
   "source": [
    "#CHECHING FOR THE DATA TYPES OF EACH COLUMN\n",
    "ds1.dtypes"
   ]
  },
  {
   "cell_type": "code",
   "execution_count": 66,
   "id": "d01d3f06",
   "metadata": {},
   "outputs": [
    {
     "name": "stdout",
     "output_type": "stream",
     "text": [
      "<class 'pandas.core.frame.DataFrame'>\n",
      "RangeIndex: 614 entries, 0 to 613\n",
      "Data columns (total 13 columns):\n",
      " #   Column             Non-Null Count  Dtype  \n",
      "---  ------             --------------  -----  \n",
      " 0   Loan_ID            614 non-null    object \n",
      " 1   Gender             601 non-null    object \n",
      " 2   Married            611 non-null    object \n",
      " 3   Dependents         599 non-null    object \n",
      " 4   Education          614 non-null    object \n",
      " 5   Self_Employed      582 non-null    object \n",
      " 6   ApplicantIncome    614 non-null    int64  \n",
      " 7   CoapplicantIncome  614 non-null    float64\n",
      " 8   LoanAmount         592 non-null    float64\n",
      " 9   Loan_Amount_Term   600 non-null    float64\n",
      " 10  Credit_History     564 non-null    float64\n",
      " 11  Property_Area      614 non-null    object \n",
      " 12  Loan_Status        614 non-null    object \n",
      "dtypes: float64(4), int64(1), object(8)\n",
      "memory usage: 62.5+ KB\n"
     ]
    }
   ],
   "source": [
    "ds1.info()"
   ]
  },
  {
   "cell_type": "code",
   "execution_count": 67,
   "id": "fdaa4061",
   "metadata": {},
   "outputs": [
    {
     "name": "stdout",
     "output_type": "stream",
     "text": [
      "LP001002    1\n",
      "LP002328    1\n",
      "LP002305    1\n",
      "LP002308    1\n",
      "LP002314    1\n",
      "           ..\n",
      "LP001692    1\n",
      "LP001693    1\n",
      "LP001698    1\n",
      "LP001699    1\n",
      "LP002990    1\n",
      "Name: Loan_ID, Length: 614, dtype: int64\n",
      "Male      489\n",
      "Female    112\n",
      "Name: Gender, dtype: int64\n",
      "Yes    398\n",
      "No     213\n",
      "Name: Married, dtype: int64\n",
      "0     345\n",
      "1     102\n",
      "2     101\n",
      "3+     51\n",
      "Name: Dependents, dtype: int64\n",
      "Graduate        480\n",
      "Not Graduate    134\n",
      "Name: Education, dtype: int64\n",
      "No     500\n",
      "Yes     82\n",
      "Name: Self_Employed, dtype: int64\n",
      "2500    9\n",
      "4583    6\n",
      "6000    6\n",
      "2600    6\n",
      "3333    5\n",
      "       ..\n",
      "3244    1\n",
      "4408    1\n",
      "3917    1\n",
      "3992    1\n",
      "7583    1\n",
      "Name: ApplicantIncome, Length: 505, dtype: int64\n",
      "0.0       273\n",
      "2500.0      5\n",
      "2083.0      5\n",
      "1666.0      5\n",
      "2250.0      3\n",
      "         ... \n",
      "2791.0      1\n",
      "1010.0      1\n",
      "1695.0      1\n",
      "2598.0      1\n",
      "240.0       1\n",
      "Name: CoapplicantIncome, Length: 287, dtype: int64\n",
      "120.0    20\n",
      "110.0    17\n",
      "100.0    15\n",
      "160.0    12\n",
      "187.0    12\n",
      "         ..\n",
      "240.0     1\n",
      "214.0     1\n",
      "59.0      1\n",
      "166.0     1\n",
      "253.0     1\n",
      "Name: LoanAmount, Length: 203, dtype: int64\n",
      "360.0    512\n",
      "180.0     44\n",
      "480.0     15\n",
      "300.0     13\n",
      "240.0      4\n",
      "84.0       4\n",
      "120.0      3\n",
      "60.0       2\n",
      "36.0       2\n",
      "12.0       1\n",
      "Name: Loan_Amount_Term, dtype: int64\n",
      "1.0    475\n",
      "0.0     89\n",
      "Name: Credit_History, dtype: int64\n",
      "Semiurban    233\n",
      "Urban        202\n",
      "Rural        179\n",
      "Name: Property_Area, dtype: int64\n",
      "Y    422\n",
      "N    192\n",
      "Name: Loan_Status, dtype: int64\n"
     ]
    }
   ],
   "source": [
    "#CHECKING FOR THE COUNT OF EVERY VALUES IN EACH COULMNS\n",
    "for i in ds1.columns:\n",
    "    print(ds1[i].value_counts())"
   ]
  },
  {
   "cell_type": "code",
   "execution_count": 68,
   "id": "3f2077de",
   "metadata": {},
   "outputs": [
    {
     "data": {
      "text/plain": [
       "Loan_ID              614\n",
       "Gender                 2\n",
       "Married                2\n",
       "Dependents             4\n",
       "Education              2\n",
       "Self_Employed          2\n",
       "ApplicantIncome      505\n",
       "CoapplicantIncome    287\n",
       "LoanAmount           203\n",
       "Loan_Amount_Term      10\n",
       "Credit_History         2\n",
       "Property_Area          3\n",
       "Loan_Status            2\n",
       "dtype: int64"
      ]
     },
     "execution_count": 68,
     "metadata": {},
     "output_type": "execute_result"
    }
   ],
   "source": [
    "ds1.nunique()"
   ]
  },
  {
   "cell_type": "code",
   "execution_count": 69,
   "id": "cf0af341",
   "metadata": {},
   "outputs": [
    {
     "data": {
      "text/plain": [
       "Loan_ID               0\n",
       "Gender               13\n",
       "Married               3\n",
       "Dependents           15\n",
       "Education             0\n",
       "Self_Employed        32\n",
       "ApplicantIncome       0\n",
       "CoapplicantIncome     0\n",
       "LoanAmount           22\n",
       "Loan_Amount_Term     14\n",
       "Credit_History       50\n",
       "Property_Area         0\n",
       "Loan_Status           0\n",
       "dtype: int64"
      ]
     },
     "execution_count": 69,
     "metadata": {},
     "output_type": "execute_result"
    }
   ],
   "source": [
    "#CHECKING FOR NULL VALUES\n",
    "ds1.isnull().sum()"
   ]
  },
  {
   "cell_type": "code",
   "execution_count": 70,
   "id": "57e0f08b",
   "metadata": {},
   "outputs": [],
   "source": [
    "#HANDLING NULL VALUES\n",
    "ds1['LoanAmount'].fillna(ds1['LoanAmount'].mean(),inplace=True)"
   ]
  },
  {
   "cell_type": "markdown",
   "id": "55b5747e",
   "metadata": {},
   "source": [
    "Since we are having null values in Loan Amount column we are using Mean imputation technique to replace those null values"
   ]
  },
  {
   "cell_type": "code",
   "execution_count": 71,
   "id": "96e528df",
   "metadata": {},
   "outputs": [
    {
     "name": "stdout",
     "output_type": "stream",
     "text": [
      "0    Male\n",
      "Name: Gender, dtype: object\n"
     ]
    }
   ],
   "source": [
    "print(ds1['Gender'].mode())"
   ]
  },
  {
   "cell_type": "code",
   "execution_count": 72,
   "id": "476aa680",
   "metadata": {},
   "outputs": [],
   "source": [
    "ds1['Gender'].fillna(ds1['Gender'].mode()[0],inplace=True)"
   ]
  },
  {
   "cell_type": "code",
   "execution_count": 73,
   "id": "b95dbcbf",
   "metadata": {},
   "outputs": [
    {
     "name": "stdout",
     "output_type": "stream",
     "text": [
      "0    Yes\n",
      "Name: Married, dtype: object\n"
     ]
    }
   ],
   "source": [
    "print(ds1['Married'].mode())"
   ]
  },
  {
   "cell_type": "code",
   "execution_count": 74,
   "id": "19aead03",
   "metadata": {},
   "outputs": [],
   "source": [
    "ds1['Married'].fillna(ds1['Married'].mode()[0],inplace=True)"
   ]
  },
  {
   "cell_type": "code",
   "execution_count": 75,
   "id": "c0738fc7",
   "metadata": {},
   "outputs": [
    {
     "name": "stdout",
     "output_type": "stream",
     "text": [
      "0    0\n",
      "Name: Dependents, dtype: object\n"
     ]
    }
   ],
   "source": [
    "print(ds1['Dependents'].mode())"
   ]
  },
  {
   "cell_type": "code",
   "execution_count": 76,
   "id": "614f1312",
   "metadata": {},
   "outputs": [],
   "source": [
    "ds1['Dependents'].fillna(ds1['Dependents'].mode()[0],inplace=True)"
   ]
  },
  {
   "cell_type": "code",
   "execution_count": 77,
   "id": "ee858d6c",
   "metadata": {},
   "outputs": [
    {
     "name": "stdout",
     "output_type": "stream",
     "text": [
      "0    No\n",
      "Name: Self_Employed, dtype: object\n"
     ]
    }
   ],
   "source": [
    "print(ds1['Self_Employed'].mode())"
   ]
  },
  {
   "cell_type": "code",
   "execution_count": 78,
   "id": "bced5eec",
   "metadata": {},
   "outputs": [],
   "source": [
    "ds1['Self_Employed'].fillna(ds1['Self_Employed'].mode()[0],inplace=True)"
   ]
  },
  {
   "cell_type": "code",
   "execution_count": 79,
   "id": "4b70513b",
   "metadata": {},
   "outputs": [
    {
     "name": "stdout",
     "output_type": "stream",
     "text": [
      "0    360.0\n",
      "Name: Loan_Amount_Term, dtype: float64\n"
     ]
    }
   ],
   "source": [
    "print(ds1['Loan_Amount_Term'].mode())"
   ]
  },
  {
   "cell_type": "code",
   "execution_count": 80,
   "id": "4421059b",
   "metadata": {},
   "outputs": [],
   "source": [
    "ds1['Loan_Amount_Term'].fillna(ds1['Loan_Amount_Term'].mode()[0],inplace=True)"
   ]
  },
  {
   "cell_type": "code",
   "execution_count": 81,
   "id": "6586015d",
   "metadata": {},
   "outputs": [
    {
     "name": "stdout",
     "output_type": "stream",
     "text": [
      "0    1.0\n",
      "Name: Credit_History, dtype: float64\n"
     ]
    }
   ],
   "source": [
    "print(ds1['Credit_History'].mode())"
   ]
  },
  {
   "cell_type": "code",
   "execution_count": 82,
   "id": "4d1a7d10",
   "metadata": {},
   "outputs": [],
   "source": [
    "ds1['Credit_History'].fillna(ds1['Credit_History'].mode()[0],inplace=True)"
   ]
  },
  {
   "cell_type": "markdown",
   "id": "a137db5a",
   "metadata": {},
   "source": [
    "For the columns like Married, Dependents, Self Employed, Loan amount term, Credit history we have used replaced the null values with mode of the their particular columns since they are categorical coulmns"
   ]
  },
  {
   "cell_type": "code",
   "execution_count": 83,
   "id": "752240ea",
   "metadata": {},
   "outputs": [
    {
     "data": {
      "text/plain": [
       "Loan_ID              0\n",
       "Gender               0\n",
       "Married              0\n",
       "Dependents           0\n",
       "Education            0\n",
       "Self_Employed        0\n",
       "ApplicantIncome      0\n",
       "CoapplicantIncome    0\n",
       "LoanAmount           0\n",
       "Loan_Amount_Term     0\n",
       "Credit_History       0\n",
       "Property_Area        0\n",
       "Loan_Status          0\n",
       "dtype: int64"
      ]
     },
     "execution_count": 83,
     "metadata": {},
     "output_type": "execute_result"
    }
   ],
   "source": [
    "#CHECKING FOR NULL VALUES\n",
    "ds1.isnull().sum()"
   ]
  },
  {
   "cell_type": "markdown",
   "id": "b5266090",
   "metadata": {},
   "source": [
    "From the above result, it is clear that the dataset is free from null values now"
   ]
  },
  {
   "cell_type": "markdown",
   "id": "50a8c826",
   "metadata": {},
   "source": [
    "# STATISTICAL ANALYSIS"
   ]
  },
  {
   "cell_type": "code",
   "execution_count": 84,
   "id": "1e4a6e43",
   "metadata": {},
   "outputs": [
    {
     "data": {
      "text/html": [
       "<div>\n",
       "<style scoped>\n",
       "    .dataframe tbody tr th:only-of-type {\n",
       "        vertical-align: middle;\n",
       "    }\n",
       "\n",
       "    .dataframe tbody tr th {\n",
       "        vertical-align: top;\n",
       "    }\n",
       "\n",
       "    .dataframe thead th {\n",
       "        text-align: right;\n",
       "    }\n",
       "</style>\n",
       "<table border=\"1\" class=\"dataframe\">\n",
       "  <thead>\n",
       "    <tr style=\"text-align: right;\">\n",
       "      <th></th>\n",
       "      <th>ApplicantIncome</th>\n",
       "      <th>CoapplicantIncome</th>\n",
       "      <th>LoanAmount</th>\n",
       "      <th>Loan_Amount_Term</th>\n",
       "      <th>Credit_History</th>\n",
       "    </tr>\n",
       "  </thead>\n",
       "  <tbody>\n",
       "    <tr>\n",
       "      <th>count</th>\n",
       "      <td>614.000000</td>\n",
       "      <td>614.000000</td>\n",
       "      <td>614.000000</td>\n",
       "      <td>614.000000</td>\n",
       "      <td>614.000000</td>\n",
       "    </tr>\n",
       "    <tr>\n",
       "      <th>mean</th>\n",
       "      <td>5403.459283</td>\n",
       "      <td>1621.245798</td>\n",
       "      <td>146.412162</td>\n",
       "      <td>342.410423</td>\n",
       "      <td>0.855049</td>\n",
       "    </tr>\n",
       "    <tr>\n",
       "      <th>std</th>\n",
       "      <td>6109.041673</td>\n",
       "      <td>2926.248369</td>\n",
       "      <td>84.037468</td>\n",
       "      <td>64.428629</td>\n",
       "      <td>0.352339</td>\n",
       "    </tr>\n",
       "    <tr>\n",
       "      <th>min</th>\n",
       "      <td>150.000000</td>\n",
       "      <td>0.000000</td>\n",
       "      <td>9.000000</td>\n",
       "      <td>12.000000</td>\n",
       "      <td>0.000000</td>\n",
       "    </tr>\n",
       "    <tr>\n",
       "      <th>25%</th>\n",
       "      <td>2877.500000</td>\n",
       "      <td>0.000000</td>\n",
       "      <td>100.250000</td>\n",
       "      <td>360.000000</td>\n",
       "      <td>1.000000</td>\n",
       "    </tr>\n",
       "    <tr>\n",
       "      <th>50%</th>\n",
       "      <td>3812.500000</td>\n",
       "      <td>1188.500000</td>\n",
       "      <td>129.000000</td>\n",
       "      <td>360.000000</td>\n",
       "      <td>1.000000</td>\n",
       "    </tr>\n",
       "    <tr>\n",
       "      <th>75%</th>\n",
       "      <td>5795.000000</td>\n",
       "      <td>2297.250000</td>\n",
       "      <td>164.750000</td>\n",
       "      <td>360.000000</td>\n",
       "      <td>1.000000</td>\n",
       "    </tr>\n",
       "    <tr>\n",
       "      <th>max</th>\n",
       "      <td>81000.000000</td>\n",
       "      <td>41667.000000</td>\n",
       "      <td>700.000000</td>\n",
       "      <td>480.000000</td>\n",
       "      <td>1.000000</td>\n",
       "    </tr>\n",
       "  </tbody>\n",
       "</table>\n",
       "</div>"
      ],
      "text/plain": [
       "       ApplicantIncome  CoapplicantIncome  LoanAmount  Loan_Amount_Term  \\\n",
       "count       614.000000         614.000000  614.000000        614.000000   \n",
       "mean       5403.459283        1621.245798  146.412162        342.410423   \n",
       "std        6109.041673        2926.248369   84.037468         64.428629   \n",
       "min         150.000000           0.000000    9.000000         12.000000   \n",
       "25%        2877.500000           0.000000  100.250000        360.000000   \n",
       "50%        3812.500000        1188.500000  129.000000        360.000000   \n",
       "75%        5795.000000        2297.250000  164.750000        360.000000   \n",
       "max       81000.000000       41667.000000  700.000000        480.000000   \n",
       "\n",
       "       Credit_History  \n",
       "count      614.000000  \n",
       "mean         0.855049  \n",
       "std          0.352339  \n",
       "min          0.000000  \n",
       "25%          1.000000  \n",
       "50%          1.000000  \n",
       "75%          1.000000  \n",
       "max          1.000000  "
      ]
     },
     "execution_count": 84,
     "metadata": {},
     "output_type": "execute_result"
    }
   ],
   "source": [
    "ds1.describe()"
   ]
  },
  {
   "cell_type": "markdown",
   "id": "51eef8f6",
   "metadata": {},
   "source": [
    "From the above output We can infer that\n",
    "\n",
    "     - There are no null values in the data set\n",
    "     - In columns like applicant Income, Co applicant income, Loan amoount the mean is greater than median and hence the data will ne skewed towards right\n",
    "     - There are huge difference between 75% and maximum values and hence there are high possibility for the presence of outliers"
   ]
  },
  {
   "cell_type": "code",
   "execution_count": 85,
   "id": "dc0d94c3",
   "metadata": {},
   "outputs": [
    {
     "data": {
      "image/png": "[encoded data removed]",
      "text/plain": [
       "<Figure size 600x600 with 1 Axes>"
      ]
     },
     "metadata": {},
     "output_type": "display_data"
    }
   ],
   "source": [
    "#DISTRIBUTION OF Loan Amount\n",
    "plt.figure(figsize=(6,6))\n",
    "sns.distplot(ds1['LoanAmount'])\n",
    "plt.title('Distribution of Loan Amount')\n",
    "plt.show()"
   ]
  },
  {
   "cell_type": "markdown",
   "id": "05b34885",
   "metadata": {},
   "source": [
    "Most of the Loan Amount is distributed between 0 and 200 bugs and the data is skewed towards right"
   ]
  },
  {
   "cell_type": "code",
   "execution_count": 86,
   "id": "352a1fcd",
   "metadata": {},
   "outputs": [
    {
     "data": {
      "image/png": "[encoded data removed]",
      "text/plain": [
       "<Figure size 600x600 with 1 Axes>"
      ]
     },
     "metadata": {},
     "output_type": "display_data"
    }
   ],
   "source": [
    "#COUNT OF Married and Not MArried\n",
    "plt.figure(figsize=(6,6))\n",
    "Married=['Yes', 'No']\n",
    "share=[401,213]\n",
    "colors=['orange','green']\n",
    "plt.style.use('ggplot')\n",
    "plt.title('Married RATE')\n",
    "plt.pie(x=share,labels=Married,colors=colors,autopct='%.1f',startangle=90)\n",
    "circle=plt.Circle(xy=(0,0), radius=0.75, facecolor='white')\n",
    "plt.gca().add_artist(circle)\n",
    "plt.show()"
   ]
  },
  {
   "cell_type": "markdown",
   "id": "8005eee7",
   "metadata": {},
   "source": [
    "Around 65% of the people in the dataset are marreid and 35% are not married"
   ]
  },
  {
   "cell_type": "code",
   "execution_count": 87,
   "id": "46513076",
   "metadata": {},
   "outputs": [
    {
     "data": {
      "image/png": "[encoded data removed]",
      "text/plain": [
       "<Figure size 640x480 with 1 Axes>"
      ]
     },
     "metadata": {},
     "output_type": "display_data"
    }
   ],
   "source": [
    "#Married vs Loan Status\n",
    "sns.countplot('Married',hue='Loan_Status',data=ds1)\n",
    "plt.show()"
   ]
  },
  {
   "cell_type": "markdown",
   "id": "f92eeace",
   "metadata": {},
   "source": [
    "Loan has been approved to married people at a higher rate than for the unmarried people"
   ]
  },
  {
   "cell_type": "code",
   "execution_count": 88,
   "id": "46778381",
   "metadata": {},
   "outputs": [
    {
     "data": {
      "image/png": "[encoded data removed]",
      "text/plain": [
       "<Figure size 640x480 with 1 Axes>"
      ]
     },
     "metadata": {},
     "output_type": "display_data"
    }
   ],
   "source": [
    "#Married vs Loan Status\n",
    "sns.countplot('Dependents',data=ds1)\n",
    "plt.show()"
   ]
  },
  {
   "cell_type": "markdown",
   "id": "268293d0",
   "metadata": {},
   "source": [
    "Most of the people in the dataset does not have any dependents, alimost 100 people each are having 1 and 2 dependents and 50 people are having 3+ dependents"
   ]
  },
  {
   "cell_type": "code",
   "execution_count": 89,
   "id": "a7ca9702",
   "metadata": {},
   "outputs": [
    {
     "data": {
      "image/png": "[encoded data removed]",
      "text/plain": [
       "<Figure size 640x480 with 1 Axes>"
      ]
     },
     "metadata": {},
     "output_type": "display_data"
    }
   ],
   "source": [
    "#Married vs Loan Status\n",
    "sns.countplot('Dependents',hue='Loan_Status',data=ds1)\n",
    "plt.show()"
   ]
  },
  {
   "cell_type": "markdown",
   "id": "cb28d181",
   "metadata": {},
   "source": [
    "Loan approval is higher for persons having no dependents and very low for persons having 2 and above dependents"
   ]
  },
  {
   "cell_type": "code",
   "execution_count": 90,
   "id": "1b1ba12f",
   "metadata": {},
   "outputs": [
    {
     "data": {
      "image/png": "[encoded data removed]",
      "text/plain": [
       "<Figure size 600x600 with 1 Axes>"
      ]
     },
     "metadata": {},
     "output_type": "display_data"
    }
   ],
   "source": [
    "#COUNT OF Educated and Not Educated\n",
    "plt.figure(figsize=(6,6))\n",
    "Education=['Yes', 'No']\n",
    "share=[480,134]\n",
    "colors=['orange','blue']\n",
    "plt.style.use('ggplot')\n",
    "plt.title('Married RATE')\n",
    "plt.pie(x=share,labels=Education,colors=colors,autopct='%.1f',startangle=90)\n",
    "circle=plt.Circle(xy=(0,0), radius=0.75, facecolor='white')\n",
    "plt.gca().add_artist(circle)\n",
    "plt.show()"
   ]
  },
  {
   "cell_type": "markdown",
   "id": "85ccc673",
   "metadata": {},
   "source": [
    "Around 78% of the people are educated and 22% are not educated"
   ]
  },
  {
   "cell_type": "code",
   "execution_count": 91,
   "id": "bc525c67",
   "metadata": {},
   "outputs": [
    {
     "data": {
      "image/png": "[encoded data removed]",
      "text/plain": [
       "<Figure size 640x480 with 1 Axes>"
      ]
     },
     "metadata": {},
     "output_type": "display_data"
    }
   ],
   "source": [
    "#Married vs Loan Status\n",
    "sns.countplot('Education',hue='Loan_Status',data=ds1)\n",
    "plt.show()"
   ]
  },
  {
   "cell_type": "markdown",
   "id": "7f9c7c17",
   "metadata": {},
   "source": [
    "Loan is approved to graduated people at a higher rate than to the uneducated people"
   ]
  },
  {
   "cell_type": "code",
   "execution_count": 92,
   "id": "405098a4",
   "metadata": {},
   "outputs": [
    {
     "data": {
      "image/png": "[encoded data removed]",
      "text/plain": [
       "<Figure size 600x600 with 1 Axes>"
      ]
     },
     "metadata": {},
     "output_type": "display_data"
    }
   ],
   "source": [
    "#COUNT OF Self Emplyed\n",
    "plt.figure(figsize=(6,6))\n",
    "Self_Employed=['Yes', 'No']\n",
    "share=[82,532]\n",
    "colors=['red','blue']\n",
    "plt.style.use('ggplot')\n",
    "plt.title('Self Employed RATE')\n",
    "plt.pie(x=share,labels=Self_Employed,colors=colors,autopct='%.1f',startangle=90)\n",
    "circle=plt.Circle(xy=(0,0), radius=0.75, facecolor='white')\n",
    "plt.gca().add_artist(circle)\n",
    "plt.show()"
   ]
  },
  {
   "cell_type": "markdown",
   "id": "d0d1bea0",
   "metadata": {},
   "source": [
    "around 87% of people in the dataset are not self employed and 13% are self employed"
   ]
  },
  {
   "cell_type": "code",
   "execution_count": 93,
   "id": "b64a1790",
   "metadata": {},
   "outputs": [
    {
     "data": {
      "image/png": "[encoded data removed]",
      "text/plain": [
       "<Figure size 640x480 with 1 Axes>"
      ]
     },
     "metadata": {},
     "output_type": "display_data"
    }
   ],
   "source": [
    "#Married vs Loan Status\n",
    "sns.countplot('Self_Employed',hue='Loan_Status',data=ds1)\n",
    "plt.show()"
   ]
  },
  {
   "cell_type": "markdown",
   "id": "1f7e4ab2",
   "metadata": {},
   "source": [
    "Loan appreoval is higher for people who are not self employed"
   ]
  },
  {
   "cell_type": "code",
   "execution_count": 94,
   "id": "bca08b26",
   "metadata": {},
   "outputs": [
    {
     "data": {
      "image/png": "[encoded data removed]",
      "text/plain": [
       "<Figure size 600x600 with 1 Axes>"
      ]
     },
     "metadata": {},
     "output_type": "display_data"
    }
   ],
   "source": [
    "#COUNT OF Self Emplyed\n",
    "plt.figure(figsize=(6,6))\n",
    "Loan_Status=['Yes', 'No']\n",
    "share=[422,192]\n",
    "colors=['red','green']\n",
    "plt.style.use('ggplot')\n",
    "plt.title('Loan Status')\n",
    "plt.pie(x=share,labels=Loan_Status,colors=colors,autopct='%.1f',startangle=90)\n",
    "circle=plt.Circle(xy=(0,0), radius=0.75, facecolor='white')\n",
    "plt.gca().add_artist(circle)\n",
    "plt.show()"
   ]
  },
  {
   "cell_type": "markdown",
   "id": "c93dd0c8",
   "metadata": {},
   "source": [
    "Loan is approved to 69% of the people and not approved to 32%"
   ]
  },
  {
   "cell_type": "code",
   "execution_count": 95,
   "id": "ec05ba85",
   "metadata": {},
   "outputs": [
    {
     "data": {
      "image/png": "[encoded data removed]",
      "text/plain": [
       "<Figure size 600x600 with 1 Axes>"
      ]
     },
     "metadata": {},
     "output_type": "display_data"
    }
   ],
   "source": [
    "#COUNT OF Gender\n",
    "plt.figure(figsize=(6,6))\n",
    "Gender=['Male', 'Female']\n",
    "share=[502,112]\n",
    "colors=['orange','green']\n",
    "plt.style.use('ggplot')\n",
    "plt.title('Loan Status')\n",
    "plt.pie(x=share,labels=Gender,colors=colors,autopct='%.1f',startangle=90)\n",
    "circle=plt.Circle(xy=(0,0), radius=0.75, facecolor='white')\n",
    "plt.gca().add_artist(circle)\n",
    "plt.show()"
   ]
  },
  {
   "cell_type": "markdown",
   "id": "b8e0462d",
   "metadata": {},
   "source": [
    "Around 82% of the people are male and 18% are female"
   ]
  },
  {
   "cell_type": "code",
   "execution_count": 96,
   "id": "b431ae5d",
   "metadata": {},
   "outputs": [
    {
     "data": {
      "image/png": "[encoded data removed]",
      "text/plain": [
       "<Figure size 640x480 with 1 Axes>"
      ]
     },
     "metadata": {},
     "output_type": "display_data"
    }
   ],
   "source": [
    "#Married vs Loan Status\n",
    "sns.countplot('Gender',hue='Loan_Status',data=ds1)\n",
    "plt.show()"
   ]
  },
  {
   "cell_type": "markdown",
   "id": "9a921fb5",
   "metadata": {},
   "source": [
    "Loan approval is higher for male than to female"
   ]
  },
  {
   "cell_type": "code",
   "execution_count": 97,
   "id": "5104069b",
   "metadata": {},
   "outputs": [
    {
     "data": {
      "image/png": "[encoded data removed]",
      "text/plain": [
       "<Figure size 1250x1250 with 30 Axes>"
      ]
     },
     "metadata": {},
     "output_type": "display_data"
    }
   ],
   "source": [
    "sns.pairplot(ds1,palette=\"spring_r\")\n",
    "plt.show()"
   ]
  },
  {
   "cell_type": "code",
   "execution_count": 98,
   "id": "a1cb1a06",
   "metadata": {},
   "outputs": [
    {
     "data": {
      "text/plain": [
       "ApplicantIncome         AxesSubplot(0.125,0.653529;0.227941x0.226471)\n",
       "CoapplicantIncome    AxesSubplot(0.398529,0.653529;0.227941x0.226471)\n",
       "LoanAmount           AxesSubplot(0.672059,0.653529;0.227941x0.226471)\n",
       "Loan_Amount_Term        AxesSubplot(0.125,0.381765;0.227941x0.226471)\n",
       "Credit_History       AxesSubplot(0.398529,0.381765;0.227941x0.226471)\n",
       "dtype: object"
      ]
     },
     "execution_count": 98,
     "metadata": {},
     "output_type": "execute_result"
    },
    {
     "data": {
      "image/png": "[encoded data removed]",
      "text/plain": [
       "<Figure size 1000x1000 with 9 Axes>"
      ]
     },
     "metadata": {},
     "output_type": "display_data"
    }
   ],
   "source": [
    "#CHECKING FOR OUTLIERS\n",
    "ds1.plot(kind='box',subplots=True,figsize=(10,10),layout=(3,3))"
   ]
  },
  {
   "cell_type": "code",
   "execution_count": 99,
   "id": "16c0f825",
   "metadata": {},
   "outputs": [
    {
     "data": {
      "text/html": [
       "<div>\n",
       "<style scoped>\n",
       "    .dataframe tbody tr th:only-of-type {\n",
       "        vertical-align: middle;\n",
       "    }\n",
       "\n",
       "    .dataframe tbody tr th {\n",
       "        vertical-align: top;\n",
       "    }\n",
       "\n",
       "    .dataframe thead th {\n",
       "        text-align: right;\n",
       "    }\n",
       "</style>\n",
       "<table border=\"1\" class=\"dataframe\">\n",
       "  <thead>\n",
       "    <tr style=\"text-align: right;\">\n",
       "      <th></th>\n",
       "      <th>ApplicantIncome</th>\n",
       "      <th>CoapplicantIncome</th>\n",
       "      <th>LoanAmount</th>\n",
       "    </tr>\n",
       "  </thead>\n",
       "  <tbody>\n",
       "    <tr>\n",
       "      <th>0</th>\n",
       "      <td>0.072991</td>\n",
       "      <td>0.554487</td>\n",
       "      <td>0.000000</td>\n",
       "    </tr>\n",
       "    <tr>\n",
       "      <th>1</th>\n",
       "      <td>0.134412</td>\n",
       "      <td>0.038732</td>\n",
       "      <td>0.219273</td>\n",
       "    </tr>\n",
       "    <tr>\n",
       "      <th>2</th>\n",
       "      <td>0.393747</td>\n",
       "      <td>0.554487</td>\n",
       "      <td>0.957641</td>\n",
       "    </tr>\n",
       "    <tr>\n",
       "      <th>3</th>\n",
       "      <td>0.462062</td>\n",
       "      <td>0.251980</td>\n",
       "      <td>0.314547</td>\n",
       "    </tr>\n",
       "    <tr>\n",
       "      <th>4</th>\n",
       "      <td>0.097728</td>\n",
       "      <td>0.554487</td>\n",
       "      <td>0.064454</td>\n",
       "    </tr>\n",
       "    <tr>\n",
       "      <th>...</th>\n",
       "      <td>...</td>\n",
       "      <td>...</td>\n",
       "      <td>...</td>\n",
       "    </tr>\n",
       "    <tr>\n",
       "      <th>609</th>\n",
       "      <td>0.410130</td>\n",
       "      <td>0.554487</td>\n",
       "      <td>0.898095</td>\n",
       "    </tr>\n",
       "    <tr>\n",
       "      <th>610</th>\n",
       "      <td>0.212557</td>\n",
       "      <td>0.554487</td>\n",
       "      <td>1.267279</td>\n",
       "    </tr>\n",
       "    <tr>\n",
       "      <th>611</th>\n",
       "      <td>0.437174</td>\n",
       "      <td>0.472404</td>\n",
       "      <td>1.269371</td>\n",
       "    </tr>\n",
       "    <tr>\n",
       "      <th>612</th>\n",
       "      <td>0.357064</td>\n",
       "      <td>0.554487</td>\n",
       "      <td>0.483367</td>\n",
       "    </tr>\n",
       "    <tr>\n",
       "      <th>613</th>\n",
       "      <td>0.134412</td>\n",
       "      <td>0.554487</td>\n",
       "      <td>0.159728</td>\n",
       "    </tr>\n",
       "  </tbody>\n",
       "</table>\n",
       "<p>614 rows × 3 columns</p>\n",
       "</div>"
      ],
      "text/plain": [
       "     ApplicantIncome  CoapplicantIncome  LoanAmount\n",
       "0           0.072991           0.554487    0.000000\n",
       "1           0.134412           0.038732    0.219273\n",
       "2           0.393747           0.554487    0.957641\n",
       "3           0.462062           0.251980    0.314547\n",
       "4           0.097728           0.554487    0.064454\n",
       "..               ...                ...         ...\n",
       "609         0.410130           0.554487    0.898095\n",
       "610         0.212557           0.554487    1.267279\n",
       "611         0.437174           0.472404    1.269371\n",
       "612         0.357064           0.554487    0.483367\n",
       "613         0.134412           0.554487    0.159728\n",
       "\n",
       "[614 rows x 3 columns]"
      ]
     },
     "execution_count": 99,
     "metadata": {},
     "output_type": "execute_result"
    }
   ],
   "source": [
    "#CHECKING FOR OUTLIERS\n",
    "from scipy.stats import zscore\n",
    "f=ds1[['ApplicantIncome','CoapplicantIncome','LoanAmount']]\n",
    "z=np.abs(zscore(f))\n",
    "z"
   ]
  },
  {
   "cell_type": "code",
   "execution_count": 100,
   "id": "af46e72c",
   "metadata": {},
   "outputs": [
    {
     "name": "stdout",
     "output_type": "stream",
     "text": [
      "(array([  9, 126, 130, 155, 155, 171, 171, 177, 177, 183, 185, 278, 308,\n",
      "       333, 333, 369, 402, 409, 417, 432, 443, 487, 506, 523, 525, 561,\n",
      "       581, 600, 604], dtype=int64), array([1, 0, 2, 0, 2, 0, 2, 1, 2, 0, 0, 2, 2, 0, 2, 2, 1, 0, 1, 2, 0, 2,\n",
      "       2, 2, 2, 2, 1, 1, 2], dtype=int64))\n"
     ]
    }
   ],
   "source": [
    "print(np.where(z>3))"
   ]
  },
  {
   "cell_type": "code",
   "execution_count": 101,
   "id": "0d8ce3de",
   "metadata": {},
   "outputs": [
    {
     "data": {
      "text/html": [
       "<div>\n",
       "<style scoped>\n",
       "    .dataframe tbody tr th:only-of-type {\n",
       "        vertical-align: middle;\n",
       "    }\n",
       "\n",
       "    .dataframe tbody tr th {\n",
       "        vertical-align: top;\n",
       "    }\n",
       "\n",
       "    .dataframe thead th {\n",
       "        text-align: right;\n",
       "    }\n",
       "</style>\n",
       "<table border=\"1\" class=\"dataframe\">\n",
       "  <thead>\n",
       "    <tr style=\"text-align: right;\">\n",
       "      <th></th>\n",
       "      <th>Loan_ID</th>\n",
       "      <th>Gender</th>\n",
       "      <th>Married</th>\n",
       "      <th>Dependents</th>\n",
       "      <th>Education</th>\n",
       "      <th>Self_Employed</th>\n",
       "      <th>ApplicantIncome</th>\n",
       "      <th>CoapplicantIncome</th>\n",
       "      <th>LoanAmount</th>\n",
       "      <th>Loan_Amount_Term</th>\n",
       "      <th>Credit_History</th>\n",
       "      <th>Property_Area</th>\n",
       "      <th>Loan_Status</th>\n",
       "    </tr>\n",
       "  </thead>\n",
       "  <tbody>\n",
       "    <tr>\n",
       "      <th>0</th>\n",
       "      <td>LP001002</td>\n",
       "      <td>Male</td>\n",
       "      <td>No</td>\n",
       "      <td>0</td>\n",
       "      <td>Graduate</td>\n",
       "      <td>No</td>\n",
       "      <td>5849</td>\n",
       "      <td>0.0</td>\n",
       "      <td>146.412162</td>\n",
       "      <td>360.0</td>\n",
       "      <td>1.0</td>\n",
       "      <td>Urban</td>\n",
       "      <td>Y</td>\n",
       "    </tr>\n",
       "    <tr>\n",
       "      <th>1</th>\n",
       "      <td>LP001003</td>\n",
       "      <td>Male</td>\n",
       "      <td>Yes</td>\n",
       "      <td>1</td>\n",
       "      <td>Graduate</td>\n",
       "      <td>No</td>\n",
       "      <td>4583</td>\n",
       "      <td>1508.0</td>\n",
       "      <td>128.000000</td>\n",
       "      <td>360.0</td>\n",
       "      <td>1.0</td>\n",
       "      <td>Rural</td>\n",
       "      <td>N</td>\n",
       "    </tr>\n",
       "    <tr>\n",
       "      <th>2</th>\n",
       "      <td>LP001005</td>\n",
       "      <td>Male</td>\n",
       "      <td>Yes</td>\n",
       "      <td>0</td>\n",
       "      <td>Graduate</td>\n",
       "      <td>Yes</td>\n",
       "      <td>3000</td>\n",
       "      <td>0.0</td>\n",
       "      <td>66.000000</td>\n",
       "      <td>360.0</td>\n",
       "      <td>1.0</td>\n",
       "      <td>Urban</td>\n",
       "      <td>Y</td>\n",
       "    </tr>\n",
       "    <tr>\n",
       "      <th>3</th>\n",
       "      <td>LP001006</td>\n",
       "      <td>Male</td>\n",
       "      <td>Yes</td>\n",
       "      <td>0</td>\n",
       "      <td>Not Graduate</td>\n",
       "      <td>No</td>\n",
       "      <td>2583</td>\n",
       "      <td>2358.0</td>\n",
       "      <td>120.000000</td>\n",
       "      <td>360.0</td>\n",
       "      <td>1.0</td>\n",
       "      <td>Urban</td>\n",
       "      <td>Y</td>\n",
       "    </tr>\n",
       "    <tr>\n",
       "      <th>4</th>\n",
       "      <td>LP001008</td>\n",
       "      <td>Male</td>\n",
       "      <td>No</td>\n",
       "      <td>0</td>\n",
       "      <td>Graduate</td>\n",
       "      <td>No</td>\n",
       "      <td>6000</td>\n",
       "      <td>0.0</td>\n",
       "      <td>141.000000</td>\n",
       "      <td>360.0</td>\n",
       "      <td>1.0</td>\n",
       "      <td>Urban</td>\n",
       "      <td>Y</td>\n",
       "    </tr>\n",
       "    <tr>\n",
       "      <th>...</th>\n",
       "      <td>...</td>\n",
       "      <td>...</td>\n",
       "      <td>...</td>\n",
       "      <td>...</td>\n",
       "      <td>...</td>\n",
       "      <td>...</td>\n",
       "      <td>...</td>\n",
       "      <td>...</td>\n",
       "      <td>...</td>\n",
       "      <td>...</td>\n",
       "      <td>...</td>\n",
       "      <td>...</td>\n",
       "      <td>...</td>\n",
       "    </tr>\n",
       "    <tr>\n",
       "      <th>609</th>\n",
       "      <td>LP002978</td>\n",
       "      <td>Female</td>\n",
       "      <td>No</td>\n",
       "      <td>0</td>\n",
       "      <td>Graduate</td>\n",
       "      <td>No</td>\n",
       "      <td>2900</td>\n",
       "      <td>0.0</td>\n",
       "      <td>71.000000</td>\n",
       "      <td>360.0</td>\n",
       "      <td>1.0</td>\n",
       "      <td>Rural</td>\n",
       "      <td>Y</td>\n",
       "    </tr>\n",
       "    <tr>\n",
       "      <th>610</th>\n",
       "      <td>LP002979</td>\n",
       "      <td>Male</td>\n",
       "      <td>Yes</td>\n",
       "      <td>3+</td>\n",
       "      <td>Graduate</td>\n",
       "      <td>No</td>\n",
       "      <td>4106</td>\n",
       "      <td>0.0</td>\n",
       "      <td>40.000000</td>\n",
       "      <td>180.0</td>\n",
       "      <td>1.0</td>\n",
       "      <td>Rural</td>\n",
       "      <td>Y</td>\n",
       "    </tr>\n",
       "    <tr>\n",
       "      <th>611</th>\n",
       "      <td>LP002983</td>\n",
       "      <td>Male</td>\n",
       "      <td>Yes</td>\n",
       "      <td>1</td>\n",
       "      <td>Graduate</td>\n",
       "      <td>No</td>\n",
       "      <td>8072</td>\n",
       "      <td>240.0</td>\n",
       "      <td>253.000000</td>\n",
       "      <td>360.0</td>\n",
       "      <td>1.0</td>\n",
       "      <td>Urban</td>\n",
       "      <td>Y</td>\n",
       "    </tr>\n",
       "    <tr>\n",
       "      <th>612</th>\n",
       "      <td>LP002984</td>\n",
       "      <td>Male</td>\n",
       "      <td>Yes</td>\n",
       "      <td>2</td>\n",
       "      <td>Graduate</td>\n",
       "      <td>No</td>\n",
       "      <td>7583</td>\n",
       "      <td>0.0</td>\n",
       "      <td>187.000000</td>\n",
       "      <td>360.0</td>\n",
       "      <td>1.0</td>\n",
       "      <td>Urban</td>\n",
       "      <td>Y</td>\n",
       "    </tr>\n",
       "    <tr>\n",
       "      <th>613</th>\n",
       "      <td>LP002990</td>\n",
       "      <td>Female</td>\n",
       "      <td>No</td>\n",
       "      <td>0</td>\n",
       "      <td>Graduate</td>\n",
       "      <td>Yes</td>\n",
       "      <td>4583</td>\n",
       "      <td>0.0</td>\n",
       "      <td>133.000000</td>\n",
       "      <td>360.0</td>\n",
       "      <td>0.0</td>\n",
       "      <td>Semiurban</td>\n",
       "      <td>N</td>\n",
       "    </tr>\n",
       "  </tbody>\n",
       "</table>\n",
       "<p>589 rows × 13 columns</p>\n",
       "</div>"
      ],
      "text/plain": [
       "      Loan_ID  Gender Married Dependents     Education Self_Employed  \\\n",
       "0    LP001002    Male      No          0      Graduate            No   \n",
       "1    LP001003    Male     Yes          1      Graduate            No   \n",
       "2    LP001005    Male     Yes          0      Graduate           Yes   \n",
       "3    LP001006    Male     Yes          0  Not Graduate            No   \n",
       "4    LP001008    Male      No          0      Graduate            No   \n",
       "..        ...     ...     ...        ...           ...           ...   \n",
       "609  LP002978  Female      No          0      Graduate            No   \n",
       "610  LP002979    Male     Yes         3+      Graduate            No   \n",
       "611  LP002983    Male     Yes          1      Graduate            No   \n",
       "612  LP002984    Male     Yes          2      Graduate            No   \n",
       "613  LP002990  Female      No          0      Graduate           Yes   \n",
       "\n",
       "     ApplicantIncome  CoapplicantIncome  LoanAmount  Loan_Amount_Term  \\\n",
       "0               5849                0.0  146.412162             360.0   \n",
       "1               4583             1508.0  128.000000             360.0   \n",
       "2               3000                0.0   66.000000             360.0   \n",
       "3               2583             2358.0  120.000000             360.0   \n",
       "4               6000                0.0  141.000000             360.0   \n",
       "..               ...                ...         ...               ...   \n",
       "609             2900                0.0   71.000000             360.0   \n",
       "610             4106                0.0   40.000000             180.0   \n",
       "611             8072              240.0  253.000000             360.0   \n",
       "612             7583                0.0  187.000000             360.0   \n",
       "613             4583                0.0  133.000000             360.0   \n",
       "\n",
       "     Credit_History Property_Area Loan_Status  \n",
       "0               1.0         Urban           Y  \n",
       "1               1.0         Rural           N  \n",
       "2               1.0         Urban           Y  \n",
       "3               1.0         Urban           Y  \n",
       "4               1.0         Urban           Y  \n",
       "..              ...           ...         ...  \n",
       "609             1.0         Rural           Y  \n",
       "610             1.0         Rural           Y  \n",
       "611             1.0         Urban           Y  \n",
       "612             1.0         Urban           Y  \n",
       "613             0.0     Semiurban           N  \n",
       "\n",
       "[589 rows x 13 columns]"
      ]
     },
     "execution_count": 101,
     "metadata": {},
     "output_type": "execute_result"
    }
   ],
   "source": [
    "#REMOVING OUTLIERS\n",
    "ds11=ds1[(z<3).all(axis=1)]\n",
    "ds11"
   ]
  },
  {
   "cell_type": "code",
   "execution_count": 102,
   "id": "011218f2",
   "metadata": {},
   "outputs": [
    {
     "data": {
      "text/plain": [
       "ApplicantIncome      2.164762\n",
       "CoapplicantIncome    1.353191\n",
       "LoanAmount           1.076221\n",
       "Loan_Amount_Term    -2.446026\n",
       "Credit_History      -2.010069\n",
       "dtype: float64"
      ]
     },
     "execution_count": 102,
     "metadata": {},
     "output_type": "execute_result"
    }
   ],
   "source": [
    "#CHECKING FOR SKEWNESS\n",
    "ds11.skew()"
   ]
  },
  {
   "cell_type": "code",
   "execution_count": 103,
   "id": "2bbc9a3e",
   "metadata": {},
   "outputs": [
    {
     "data": {
      "text/plain": [
       "ApplicantIncome      0.848471\n",
       "CoapplicantIncome   -0.030379\n",
       "LoanAmount          -0.098485\n",
       "Loan_Amount_Term    -2.446026\n",
       "Credit_History      -2.010069\n",
       "dtype: float64"
      ]
     },
     "execution_count": 103,
     "metadata": {},
     "output_type": "execute_result"
    }
   ],
   "source": [
    "#REMOVING SKEWNESS USING CUBEROOT METHOD\n",
    "ds11[['ApplicantIncome','CoapplicantIncome','LoanAmount']] = np.cbrt(ds11[['ApplicantIncome','CoapplicantIncome','LoanAmount']])\n",
    "ds11.skew()"
   ]
  },
  {
   "cell_type": "code",
   "execution_count": 104,
   "id": "3e19d81e",
   "metadata": {},
   "outputs": [
    {
     "data": {
      "text/plain": [
       "ApplicantIncome      0.402972\n",
       "CoapplicantIncome   -0.030379\n",
       "LoanAmount          -0.098485\n",
       "Loan_Amount_Term    -2.446026\n",
       "Credit_History      -2.010069\n",
       "dtype: float64"
      ]
     },
     "execution_count": 104,
     "metadata": {},
     "output_type": "execute_result"
    }
   ],
   "source": [
    "#REMOVING SKEWNESS USING CUBEROOT METHOD\n",
    "ds11[['ApplicantIncome']] = np.sqrt(ds11[['ApplicantIncome']])\n",
    "ds11.skew()"
   ]
  },
  {
   "cell_type": "code",
   "execution_count": 105,
   "id": "de1cf084",
   "metadata": {},
   "outputs": [
    {
     "name": "stdout",
     "output_type": "stream",
     "text": [
      "['Loan_ID', 'Gender', 'Married', 'Dependents', 'Education', 'Self_Employed', 'Property_Area', 'Loan_Status']\n",
      "['ApplicantIncome', 'CoapplicantIncome', 'LoanAmount', 'Loan_Amount_Term', 'Credit_History']\n"
     ]
    }
   ],
   "source": [
    "#SEPERATING CATEGORICAL AND NUMERICAL COLUMNS\n",
    "cat_col=[]\n",
    "num_col=[]\n",
    "for i in ds1.dtypes.index:\n",
    "    if ds1.dtypes[i]==\"object\":\n",
    "        cat_col.append(i)\n",
    "    else:\n",
    "        num_col.append(i)\n",
    "print(cat_col)\n",
    "print(num_col)"
   ]
  },
  {
   "cell_type": "code",
   "execution_count": 106,
   "id": "d88e5e24",
   "metadata": {},
   "outputs": [
    {
     "data": {
      "text/html": [
       "<div>\n",
       "<style scoped>\n",
       "    .dataframe tbody tr th:only-of-type {\n",
       "        vertical-align: middle;\n",
       "    }\n",
       "\n",
       "    .dataframe tbody tr th {\n",
       "        vertical-align: top;\n",
       "    }\n",
       "\n",
       "    .dataframe thead th {\n",
       "        text-align: right;\n",
       "    }\n",
       "</style>\n",
       "<table border=\"1\" class=\"dataframe\">\n",
       "  <thead>\n",
       "    <tr style=\"text-align: right;\">\n",
       "      <th></th>\n",
       "      <th>Loan_ID</th>\n",
       "      <th>Gender</th>\n",
       "      <th>Married</th>\n",
       "      <th>Dependents</th>\n",
       "      <th>Education</th>\n",
       "      <th>Self_Employed</th>\n",
       "      <th>ApplicantIncome</th>\n",
       "      <th>CoapplicantIncome</th>\n",
       "      <th>LoanAmount</th>\n",
       "      <th>Loan_Amount_Term</th>\n",
       "      <th>Credit_History</th>\n",
       "      <th>Property_Area</th>\n",
       "      <th>Loan_Status</th>\n",
       "    </tr>\n",
       "  </thead>\n",
       "  <tbody>\n",
       "    <tr>\n",
       "      <th>0</th>\n",
       "      <td>0</td>\n",
       "      <td>1</td>\n",
       "      <td>0</td>\n",
       "      <td>0</td>\n",
       "      <td>0</td>\n",
       "      <td>0</td>\n",
       "      <td>4.244699</td>\n",
       "      <td>0.000000</td>\n",
       "      <td>5.270588</td>\n",
       "      <td>360.0</td>\n",
       "      <td>1.0</td>\n",
       "      <td>2</td>\n",
       "      <td>1</td>\n",
       "    </tr>\n",
       "    <tr>\n",
       "      <th>1</th>\n",
       "      <td>1</td>\n",
       "      <td>1</td>\n",
       "      <td>1</td>\n",
       "      <td>1</td>\n",
       "      <td>0</td>\n",
       "      <td>0</td>\n",
       "      <td>4.075601</td>\n",
       "      <td>11.467457</td>\n",
       "      <td>5.039684</td>\n",
       "      <td>360.0</td>\n",
       "      <td>1.0</td>\n",
       "      <td>0</td>\n",
       "      <td>0</td>\n",
       "    </tr>\n",
       "    <tr>\n",
       "      <th>2</th>\n",
       "      <td>2</td>\n",
       "      <td>1</td>\n",
       "      <td>1</td>\n",
       "      <td>0</td>\n",
       "      <td>0</td>\n",
       "      <td>1</td>\n",
       "      <td>3.797696</td>\n",
       "      <td>0.000000</td>\n",
       "      <td>4.041240</td>\n",
       "      <td>360.0</td>\n",
       "      <td>1.0</td>\n",
       "      <td>2</td>\n",
       "      <td>1</td>\n",
       "    </tr>\n",
       "    <tr>\n",
       "      <th>3</th>\n",
       "      <td>3</td>\n",
       "      <td>1</td>\n",
       "      <td>1</td>\n",
       "      <td>0</td>\n",
       "      <td>1</td>\n",
       "      <td>0</td>\n",
       "      <td>3.704140</td>\n",
       "      <td>13.310098</td>\n",
       "      <td>4.932424</td>\n",
       "      <td>360.0</td>\n",
       "      <td>1.0</td>\n",
       "      <td>2</td>\n",
       "      <td>1</td>\n",
       "    </tr>\n",
       "    <tr>\n",
       "      <th>4</th>\n",
       "      <td>4</td>\n",
       "      <td>1</td>\n",
       "      <td>0</td>\n",
       "      <td>0</td>\n",
       "      <td>0</td>\n",
       "      <td>0</td>\n",
       "      <td>4.262770</td>\n",
       "      <td>0.000000</td>\n",
       "      <td>5.204828</td>\n",
       "      <td>360.0</td>\n",
       "      <td>1.0</td>\n",
       "      <td>2</td>\n",
       "      <td>1</td>\n",
       "    </tr>\n",
       "    <tr>\n",
       "      <th>...</th>\n",
       "      <td>...</td>\n",
       "      <td>...</td>\n",
       "      <td>...</td>\n",
       "      <td>...</td>\n",
       "      <td>...</td>\n",
       "      <td>...</td>\n",
       "      <td>...</td>\n",
       "      <td>...</td>\n",
       "      <td>...</td>\n",
       "      <td>...</td>\n",
       "      <td>...</td>\n",
       "      <td>...</td>\n",
       "      <td>...</td>\n",
       "    </tr>\n",
       "    <tr>\n",
       "      <th>609</th>\n",
       "      <td>584</td>\n",
       "      <td>0</td>\n",
       "      <td>0</td>\n",
       "      <td>0</td>\n",
       "      <td>0</td>\n",
       "      <td>0</td>\n",
       "      <td>3.776299</td>\n",
       "      <td>0.000000</td>\n",
       "      <td>4.140818</td>\n",
       "      <td>360.0</td>\n",
       "      <td>1.0</td>\n",
       "      <td>0</td>\n",
       "      <td>1</td>\n",
       "    </tr>\n",
       "    <tr>\n",
       "      <th>610</th>\n",
       "      <td>585</td>\n",
       "      <td>1</td>\n",
       "      <td>1</td>\n",
       "      <td>3</td>\n",
       "      <td>0</td>\n",
       "      <td>0</td>\n",
       "      <td>4.001626</td>\n",
       "      <td>0.000000</td>\n",
       "      <td>3.419952</td>\n",
       "      <td>180.0</td>\n",
       "      <td>1.0</td>\n",
       "      <td>0</td>\n",
       "      <td>1</td>\n",
       "    </tr>\n",
       "    <tr>\n",
       "      <th>611</th>\n",
       "      <td>586</td>\n",
       "      <td>1</td>\n",
       "      <td>1</td>\n",
       "      <td>1</td>\n",
       "      <td>0</td>\n",
       "      <td>0</td>\n",
       "      <td>4.478819</td>\n",
       "      <td>6.214465</td>\n",
       "      <td>6.324704</td>\n",
       "      <td>360.0</td>\n",
       "      <td>1.0</td>\n",
       "      <td>2</td>\n",
       "      <td>1</td>\n",
       "    </tr>\n",
       "    <tr>\n",
       "      <th>612</th>\n",
       "      <td>587</td>\n",
       "      <td>1</td>\n",
       "      <td>1</td>\n",
       "      <td>2</td>\n",
       "      <td>0</td>\n",
       "      <td>0</td>\n",
       "      <td>4.432413</td>\n",
       "      <td>0.000000</td>\n",
       "      <td>5.718479</td>\n",
       "      <td>360.0</td>\n",
       "      <td>1.0</td>\n",
       "      <td>2</td>\n",
       "      <td>1</td>\n",
       "    </tr>\n",
       "    <tr>\n",
       "      <th>613</th>\n",
       "      <td>588</td>\n",
       "      <td>0</td>\n",
       "      <td>0</td>\n",
       "      <td>0</td>\n",
       "      <td>0</td>\n",
       "      <td>1</td>\n",
       "      <td>4.075601</td>\n",
       "      <td>0.000000</td>\n",
       "      <td>5.104469</td>\n",
       "      <td>360.0</td>\n",
       "      <td>0.0</td>\n",
       "      <td>1</td>\n",
       "      <td>0</td>\n",
       "    </tr>\n",
       "  </tbody>\n",
       "</table>\n",
       "<p>589 rows × 13 columns</p>\n",
       "</div>"
      ],
      "text/plain": [
       "     Loan_ID  Gender  Married  Dependents  Education  Self_Employed  \\\n",
       "0          0       1        0           0          0              0   \n",
       "1          1       1        1           1          0              0   \n",
       "2          2       1        1           0          0              1   \n",
       "3          3       1        1           0          1              0   \n",
       "4          4       1        0           0          0              0   \n",
       "..       ...     ...      ...         ...        ...            ...   \n",
       "609      584       0        0           0          0              0   \n",
       "610      585       1        1           3          0              0   \n",
       "611      586       1        1           1          0              0   \n",
       "612      587       1        1           2          0              0   \n",
       "613      588       0        0           0          0              1   \n",
       "\n",
       "     ApplicantIncome  CoapplicantIncome  LoanAmount  Loan_Amount_Term  \\\n",
       "0           4.244699           0.000000    5.270588             360.0   \n",
       "1           4.075601          11.467457    5.039684             360.0   \n",
       "2           3.797696           0.000000    4.041240             360.0   \n",
       "3           3.704140          13.310098    4.932424             360.0   \n",
       "4           4.262770           0.000000    5.204828             360.0   \n",
       "..               ...                ...         ...               ...   \n",
       "609         3.776299           0.000000    4.140818             360.0   \n",
       "610         4.001626           0.000000    3.419952             180.0   \n",
       "611         4.478819           6.214465    6.324704             360.0   \n",
       "612         4.432413           0.000000    5.718479             360.0   \n",
       "613         4.075601           0.000000    5.104469             360.0   \n",
       "\n",
       "     Credit_History  Property_Area  Loan_Status  \n",
       "0               1.0              2            1  \n",
       "1               1.0              0            0  \n",
       "2               1.0              2            1  \n",
       "3               1.0              2            1  \n",
       "4               1.0              2            1  \n",
       "..              ...            ...          ...  \n",
       "609             1.0              0            1  \n",
       "610             1.0              0            1  \n",
       "611             1.0              2            1  \n",
       "612             1.0              2            1  \n",
       "613             0.0              1            0  \n",
       "\n",
       "[589 rows x 13 columns]"
      ]
     },
     "execution_count": 106,
     "metadata": {},
     "output_type": "execute_result"
    }
   ],
   "source": [
    "# LABEL ENCODING TECHNIQUE\n",
    "from sklearn.preprocessing import LabelEncoder\n",
    "le=LabelEncoder()\n",
    "for i in cat_col:\n",
    "    ds11[i]=le.fit_transform(ds11[i].astype(str))\n",
    "ds11"
   ]
  },
  {
   "cell_type": "markdown",
   "id": "38920b2b",
   "metadata": {},
   "source": [
    "CHECKING FOR CORRELATION"
   ]
  },
  {
   "cell_type": "code",
   "execution_count": 107,
   "id": "8eaf3f79",
   "metadata": {},
   "outputs": [
    {
     "data": {
      "text/html": [
       "<div>\n",
       "<style scoped>\n",
       "    .dataframe tbody tr th:only-of-type {\n",
       "        vertical-align: middle;\n",
       "    }\n",
       "\n",
       "    .dataframe tbody tr th {\n",
       "        vertical-align: top;\n",
       "    }\n",
       "\n",
       "    .dataframe thead th {\n",
       "        text-align: right;\n",
       "    }\n",
       "</style>\n",
       "<table border=\"1\" class=\"dataframe\">\n",
       "  <thead>\n",
       "    <tr style=\"text-align: right;\">\n",
       "      <th></th>\n",
       "      <th>Loan_ID</th>\n",
       "      <th>Gender</th>\n",
       "      <th>Married</th>\n",
       "      <th>Dependents</th>\n",
       "      <th>Education</th>\n",
       "      <th>Self_Employed</th>\n",
       "      <th>ApplicantIncome</th>\n",
       "      <th>CoapplicantIncome</th>\n",
       "      <th>LoanAmount</th>\n",
       "      <th>Loan_Amount_Term</th>\n",
       "      <th>Credit_History</th>\n",
       "      <th>Property_Area</th>\n",
       "      <th>Loan_Status</th>\n",
       "    </tr>\n",
       "  </thead>\n",
       "  <tbody>\n",
       "    <tr>\n",
       "      <th>Loan_ID</th>\n",
       "      <td>1.000000</td>\n",
       "      <td>-0.014579</td>\n",
       "      <td>-0.010700</td>\n",
       "      <td>0.054066</td>\n",
       "      <td>0.046613</td>\n",
       "      <td>0.024752</td>\n",
       "      <td>0.027790</td>\n",
       "      <td>-0.033077</td>\n",
       "      <td>0.016051</td>\n",
       "      <td>-0.031107</td>\n",
       "      <td>-0.041512</td>\n",
       "      <td>-0.165768</td>\n",
       "      <td>0.014457</td>\n",
       "    </tr>\n",
       "    <tr>\n",
       "      <th>Gender</th>\n",
       "      <td>-0.014579</td>\n",
       "      <td>1.000000</td>\n",
       "      <td>0.374745</td>\n",
       "      <td>0.184580</td>\n",
       "      <td>0.050036</td>\n",
       "      <td>0.000841</td>\n",
       "      <td>0.055173</td>\n",
       "      <td>0.227755</td>\n",
       "      <td>0.158982</td>\n",
       "      <td>-0.084919</td>\n",
       "      <td>0.013432</td>\n",
       "      <td>-0.022807</td>\n",
       "      <td>0.021942</td>\n",
       "    </tr>\n",
       "    <tr>\n",
       "      <th>Married</th>\n",
       "      <td>-0.010700</td>\n",
       "      <td>0.374745</td>\n",
       "      <td>1.000000</td>\n",
       "      <td>0.333887</td>\n",
       "      <td>0.015846</td>\n",
       "      <td>-0.004453</td>\n",
       "      <td>-0.019702</td>\n",
       "      <td>0.317668</td>\n",
       "      <td>0.174194</td>\n",
       "      <td>-0.100776</td>\n",
       "      <td>0.019377</td>\n",
       "      <td>0.010586</td>\n",
       "      <td>0.095124</td>\n",
       "    </tr>\n",
       "    <tr>\n",
       "      <th>Dependents</th>\n",
       "      <td>0.054066</td>\n",
       "      <td>0.184580</td>\n",
       "      <td>0.333887</td>\n",
       "      <td>1.000000</td>\n",
       "      <td>0.068588</td>\n",
       "      <td>0.055481</td>\n",
       "      <td>0.104380</td>\n",
       "      <td>-0.010943</td>\n",
       "      <td>0.127294</td>\n",
       "      <td>-0.091158</td>\n",
       "      <td>-0.017650</td>\n",
       "      <td>0.006005</td>\n",
       "      <td>0.021937</td>\n",
       "    </tr>\n",
       "    <tr>\n",
       "      <th>Education</th>\n",
       "      <td>0.046613</td>\n",
       "      <td>0.050036</td>\n",
       "      <td>0.015846</td>\n",
       "      <td>0.068588</td>\n",
       "      <td>1.000000</td>\n",
       "      <td>-0.003507</td>\n",
       "      <td>-0.170873</td>\n",
       "      <td>0.018375</td>\n",
       "      <td>-0.128459</td>\n",
       "      <td>-0.076546</td>\n",
       "      <td>-0.073799</td>\n",
       "      <td>-0.065623</td>\n",
       "      <td>-0.092852</td>\n",
       "    </tr>\n",
       "    <tr>\n",
       "      <th>Self_Employed</th>\n",
       "      <td>0.024752</td>\n",
       "      <td>0.000841</td>\n",
       "      <td>-0.004453</td>\n",
       "      <td>0.055481</td>\n",
       "      <td>-0.003507</td>\n",
       "      <td>1.000000</td>\n",
       "      <td>0.223953</td>\n",
       "      <td>-0.091531</td>\n",
       "      <td>0.104346</td>\n",
       "      <td>-0.053868</td>\n",
       "      <td>-0.012954</td>\n",
       "      <td>-0.030248</td>\n",
       "      <td>-0.016617</td>\n",
       "    </tr>\n",
       "    <tr>\n",
       "      <th>ApplicantIncome</th>\n",
       "      <td>0.027790</td>\n",
       "      <td>0.055173</td>\n",
       "      <td>-0.019702</td>\n",
       "      <td>0.104380</td>\n",
       "      <td>-0.170873</td>\n",
       "      <td>0.223953</td>\n",
       "      <td>1.000000</td>\n",
       "      <td>-0.344191</td>\n",
       "      <td>0.438665</td>\n",
       "      <td>-0.038985</td>\n",
       "      <td>0.029119</td>\n",
       "      <td>-0.016938</td>\n",
       "      <td>-0.004301</td>\n",
       "    </tr>\n",
       "    <tr>\n",
       "      <th>CoapplicantIncome</th>\n",
       "      <td>-0.033077</td>\n",
       "      <td>0.227755</td>\n",
       "      <td>0.317668</td>\n",
       "      <td>-0.010943</td>\n",
       "      <td>0.018375</td>\n",
       "      <td>-0.091531</td>\n",
       "      <td>-0.344191</td>\n",
       "      <td>1.000000</td>\n",
       "      <td>0.230519</td>\n",
       "      <td>0.003924</td>\n",
       "      <td>0.000178</td>\n",
       "      <td>-0.075864</td>\n",
       "      <td>0.072285</td>\n",
       "    </tr>\n",
       "    <tr>\n",
       "      <th>LoanAmount</th>\n",
       "      <td>0.016051</td>\n",
       "      <td>0.158982</td>\n",
       "      <td>0.174194</td>\n",
       "      <td>0.127294</td>\n",
       "      <td>-0.128459</td>\n",
       "      <td>0.104346</td>\n",
       "      <td>0.438665</td>\n",
       "      <td>0.230519</td>\n",
       "      <td>1.000000</td>\n",
       "      <td>0.095624</td>\n",
       "      <td>-0.011518</td>\n",
       "      <td>-0.100821</td>\n",
       "      <td>-0.039400</td>\n",
       "    </tr>\n",
       "    <tr>\n",
       "      <th>Loan_Amount_Term</th>\n",
       "      <td>-0.031107</td>\n",
       "      <td>-0.084919</td>\n",
       "      <td>-0.100776</td>\n",
       "      <td>-0.091158</td>\n",
       "      <td>-0.076546</td>\n",
       "      <td>-0.053868</td>\n",
       "      <td>-0.038985</td>\n",
       "      <td>0.003924</td>\n",
       "      <td>0.095624</td>\n",
       "      <td>1.000000</td>\n",
       "      <td>-0.013960</td>\n",
       "      <td>-0.070405</td>\n",
       "      <td>-0.023119</td>\n",
       "    </tr>\n",
       "    <tr>\n",
       "      <th>Credit_History</th>\n",
       "      <td>-0.041512</td>\n",
       "      <td>0.013432</td>\n",
       "      <td>0.019377</td>\n",
       "      <td>-0.017650</td>\n",
       "      <td>-0.073799</td>\n",
       "      <td>-0.012954</td>\n",
       "      <td>0.029119</td>\n",
       "      <td>0.000178</td>\n",
       "      <td>-0.011518</td>\n",
       "      <td>-0.013960</td>\n",
       "      <td>1.000000</td>\n",
       "      <td>-0.005694</td>\n",
       "      <td>0.555908</td>\n",
       "    </tr>\n",
       "    <tr>\n",
       "      <th>Property_Area</th>\n",
       "      <td>-0.165768</td>\n",
       "      <td>-0.022807</td>\n",
       "      <td>0.010586</td>\n",
       "      <td>0.006005</td>\n",
       "      <td>-0.065623</td>\n",
       "      <td>-0.030248</td>\n",
       "      <td>-0.016938</td>\n",
       "      <td>-0.075864</td>\n",
       "      <td>-0.100821</td>\n",
       "      <td>-0.070405</td>\n",
       "      <td>-0.005694</td>\n",
       "      <td>1.000000</td>\n",
       "      <td>0.034894</td>\n",
       "    </tr>\n",
       "    <tr>\n",
       "      <th>Loan_Status</th>\n",
       "      <td>0.014457</td>\n",
       "      <td>0.021942</td>\n",
       "      <td>0.095124</td>\n",
       "      <td>0.021937</td>\n",
       "      <td>-0.092852</td>\n",
       "      <td>-0.016617</td>\n",
       "      <td>-0.004301</td>\n",
       "      <td>0.072285</td>\n",
       "      <td>-0.039400</td>\n",
       "      <td>-0.023119</td>\n",
       "      <td>0.555908</td>\n",
       "      <td>0.034894</td>\n",
       "      <td>1.000000</td>\n",
       "    </tr>\n",
       "  </tbody>\n",
       "</table>\n",
       "</div>"
      ],
      "text/plain": [
       "                    Loan_ID    Gender   Married  Dependents  Education  \\\n",
       "Loan_ID            1.000000 -0.014579 -0.010700    0.054066   0.046613   \n",
       "Gender            -0.014579  1.000000  0.374745    0.184580   0.050036   \n",
       "Married           -0.010700  0.374745  1.000000    0.333887   0.015846   \n",
       "Dependents         0.054066  0.184580  0.333887    1.000000   0.068588   \n",
       "Education          0.046613  0.050036  0.015846    0.068588   1.000000   \n",
       "Self_Employed      0.024752  0.000841 -0.004453    0.055481  -0.003507   \n",
       "ApplicantIncome    0.027790  0.055173 -0.019702    0.104380  -0.170873   \n",
       "CoapplicantIncome -0.033077  0.227755  0.317668   -0.010943   0.018375   \n",
       "LoanAmount         0.016051  0.158982  0.174194    0.127294  -0.128459   \n",
       "Loan_Amount_Term  -0.031107 -0.084919 -0.100776   -0.091158  -0.076546   \n",
       "Credit_History    -0.041512  0.013432  0.019377   -0.017650  -0.073799   \n",
       "Property_Area     -0.165768 -0.022807  0.010586    0.006005  -0.065623   \n",
       "Loan_Status        0.014457  0.021942  0.095124    0.021937  -0.092852   \n",
       "\n",
       "                   Self_Employed  ApplicantIncome  CoapplicantIncome  \\\n",
       "Loan_ID                 0.024752         0.027790          -0.033077   \n",
       "Gender                  0.000841         0.055173           0.227755   \n",
       "Married                -0.004453        -0.019702           0.317668   \n",
       "Dependents              0.055481         0.104380          -0.010943   \n",
       "Education              -0.003507        -0.170873           0.018375   \n",
       "Self_Employed           1.000000         0.223953          -0.091531   \n",
       "ApplicantIncome         0.223953         1.000000          -0.344191   \n",
       "CoapplicantIncome      -0.091531        -0.344191           1.000000   \n",
       "LoanAmount              0.104346         0.438665           0.230519   \n",
       "Loan_Amount_Term       -0.053868        -0.038985           0.003924   \n",
       "Credit_History         -0.012954         0.029119           0.000178   \n",
       "Property_Area          -0.030248        -0.016938          -0.075864   \n",
       "Loan_Status            -0.016617        -0.004301           0.072285   \n",
       "\n",
       "                   LoanAmount  Loan_Amount_Term  Credit_History  \\\n",
       "Loan_ID              0.016051         -0.031107       -0.041512   \n",
       "Gender               0.158982         -0.084919        0.013432   \n",
       "Married              0.174194         -0.100776        0.019377   \n",
       "Dependents           0.127294         -0.091158       -0.017650   \n",
       "Education           -0.128459         -0.076546       -0.073799   \n",
       "Self_Employed        0.104346         -0.053868       -0.012954   \n",
       "ApplicantIncome      0.438665         -0.038985        0.029119   \n",
       "CoapplicantIncome    0.230519          0.003924        0.000178   \n",
       "LoanAmount           1.000000          0.095624       -0.011518   \n",
       "Loan_Amount_Term     0.095624          1.000000       -0.013960   \n",
       "Credit_History      -0.011518         -0.013960        1.000000   \n",
       "Property_Area       -0.100821         -0.070405       -0.005694   \n",
       "Loan_Status         -0.039400         -0.023119        0.555908   \n",
       "\n",
       "                   Property_Area  Loan_Status  \n",
       "Loan_ID                -0.165768     0.014457  \n",
       "Gender                 -0.022807     0.021942  \n",
       "Married                 0.010586     0.095124  \n",
       "Dependents              0.006005     0.021937  \n",
       "Education              -0.065623    -0.092852  \n",
       "Self_Employed          -0.030248    -0.016617  \n",
       "ApplicantIncome        -0.016938    -0.004301  \n",
       "CoapplicantIncome      -0.075864     0.072285  \n",
       "LoanAmount             -0.100821    -0.039400  \n",
       "Loan_Amount_Term       -0.070405    -0.023119  \n",
       "Credit_History         -0.005694     0.555908  \n",
       "Property_Area           1.000000     0.034894  \n",
       "Loan_Status             0.034894     1.000000  "
      ]
     },
     "execution_count": 107,
     "metadata": {},
     "output_type": "execute_result"
    }
   ],
   "source": [
    "ds11.corr()"
   ]
  },
  {
   "cell_type": "code",
   "execution_count": 108,
   "id": "1a4d593d",
   "metadata": {},
   "outputs": [
    {
     "data": {
      "image/png": "[encoded data removed]",
      "text/plain": [
       "<Figure size 1500x600 with 2 Axes>"
      ]
     },
     "metadata": {},
     "output_type": "display_data"
    }
   ],
   "source": [
    "plt.figure(figsize=(15,6))\n",
    "sns.heatmap(ds1.corr(),annot=True,linewidths=0.6,linecolor='black',fmt='0.2f')\n",
    "plt.show()"
   ]
  },
  {
   "cell_type": "code",
   "execution_count": 109,
   "id": "c487b3f1",
   "metadata": {},
   "outputs": [
    {
     "name": "stdout",
     "output_type": "stream",
     "text": [
      "     Loan_ID  Gender  Married  Dependents  Education  Self_Employed  \\\n",
      "0          0       1        0           0          0              0   \n",
      "1          1       1        1           1          0              0   \n",
      "2          2       1        1           0          0              1   \n",
      "3          3       1        1           0          1              0   \n",
      "4          4       1        0           0          0              0   \n",
      "..       ...     ...      ...         ...        ...            ...   \n",
      "609      584       0        0           0          0              0   \n",
      "610      585       1        1           3          0              0   \n",
      "611      586       1        1           1          0              0   \n",
      "612      587       1        1           2          0              0   \n",
      "613      588       0        0           0          0              1   \n",
      "\n",
      "     ApplicantIncome  CoapplicantIncome  LoanAmount  Loan_Amount_Term  \\\n",
      "0           4.244699           0.000000    5.270588             360.0   \n",
      "1           4.075601          11.467457    5.039684             360.0   \n",
      "2           3.797696           0.000000    4.041240             360.0   \n",
      "3           3.704140          13.310098    4.932424             360.0   \n",
      "4           4.262770           0.000000    5.204828             360.0   \n",
      "..               ...                ...         ...               ...   \n",
      "609         3.776299           0.000000    4.140818             360.0   \n",
      "610         4.001626           0.000000    3.419952             180.0   \n",
      "611         4.478819           6.214465    6.324704             360.0   \n",
      "612         4.432413           0.000000    5.718479             360.0   \n",
      "613         4.075601           0.000000    5.104469             360.0   \n",
      "\n",
      "     Credit_History  Property_Area  \n",
      "0               1.0              2  \n",
      "1               1.0              0  \n",
      "2               1.0              2  \n",
      "3               1.0              2  \n",
      "4               1.0              2  \n",
      "..              ...            ...  \n",
      "609             1.0              0  \n",
      "610             1.0              0  \n",
      "611             1.0              2  \n",
      "612             1.0              2  \n",
      "613             0.0              1  \n",
      "\n",
      "[589 rows x 12 columns]\n"
     ]
    }
   ],
   "source": [
    "#SEPERATING INDEPENDENT VARIABLES AND TARGET\n",
    "x1 = ds11.drop('Loan_Status',axis=1)\n",
    "y1 = ds11['Loan_Status']\n",
    "print(x1)"
   ]
  },
  {
   "cell_type": "code",
   "execution_count": 110,
   "id": "70651de1",
   "metadata": {},
   "outputs": [
    {
     "data": {
      "text/plain": [
       "0      1\n",
       "1      0\n",
       "2      1\n",
       "3      1\n",
       "4      1\n",
       "      ..\n",
       "609    1\n",
       "610    1\n",
       "611    1\n",
       "612    1\n",
       "613    0\n",
       "Name: Loan_Status, Length: 589, dtype: int32"
      ]
     },
     "execution_count": 110,
     "metadata": {},
     "output_type": "execute_result"
    }
   ],
   "source": [
    "y1"
   ]
  },
  {
   "cell_type": "code",
   "execution_count": 111,
   "id": "fb2bd85d",
   "metadata": {},
   "outputs": [
    {
     "data": {
      "text/plain": [
       "array([[-1.72911264,  0.47653262, -1.36353339, ...,  0.27230588,\n",
       "         0.41349021,  1.22292864],\n",
       "       [-1.7232313 ,  0.47653262,  0.73338872, ...,  0.27230588,\n",
       "         0.41349021, -1.31335646],\n",
       "       [-1.71734997,  0.47653262,  0.73338872, ...,  0.27230588,\n",
       "         0.41349021,  1.22292864],\n",
       "       ...,\n",
       "       [ 1.71734997,  0.47653262,  0.73338872, ...,  0.27230588,\n",
       "         0.41349021,  1.22292864],\n",
       "       [ 1.7232313 ,  0.47653262,  0.73338872, ...,  0.27230588,\n",
       "         0.41349021,  1.22292864],\n",
       "       [ 1.72911264, -2.09849225, -1.36353339, ...,  0.27230588,\n",
       "        -2.41843694, -0.04521391]])"
      ]
     },
     "execution_count": 111,
     "metadata": {},
     "output_type": "execute_result"
    }
   ],
   "source": [
    "#SCALING TO REMOVE BIASNESS - STANDARD SCALING\n",
    "from sklearn.preprocessing import StandardScaler\n",
    "st=StandardScaler()\n",
    "x1=st.fit_transform(x1)\n",
    "x1"
   ]
  },
  {
   "cell_type": "code",
   "execution_count": 112,
   "id": "fcb5a744",
   "metadata": {},
   "outputs": [
    {
     "data": {
      "text/html": [
       "<div>\n",
       "<style scoped>\n",
       "    .dataframe tbody tr th:only-of-type {\n",
       "        vertical-align: middle;\n",
       "    }\n",
       "\n",
       "    .dataframe tbody tr th {\n",
       "        vertical-align: top;\n",
       "    }\n",
       "\n",
       "    .dataframe thead th {\n",
       "        text-align: right;\n",
       "    }\n",
       "</style>\n",
       "<table border=\"1\" class=\"dataframe\">\n",
       "  <thead>\n",
       "    <tr style=\"text-align: right;\">\n",
       "      <th></th>\n",
       "      <th>0</th>\n",
       "      <th>1</th>\n",
       "      <th>2</th>\n",
       "      <th>3</th>\n",
       "      <th>4</th>\n",
       "      <th>5</th>\n",
       "      <th>6</th>\n",
       "      <th>7</th>\n",
       "      <th>8</th>\n",
       "      <th>9</th>\n",
       "      <th>10</th>\n",
       "      <th>11</th>\n",
       "    </tr>\n",
       "  </thead>\n",
       "  <tbody>\n",
       "    <tr>\n",
       "      <th>0</th>\n",
       "      <td>-1.729113</td>\n",
       "      <td>0.476533</td>\n",
       "      <td>-1.363533</td>\n",
       "      <td>-0.728402</td>\n",
       "      <td>-0.542684</td>\n",
       "      <td>-0.384900</td>\n",
       "      <td>0.670135</td>\n",
       "      <td>-1.089890</td>\n",
       "      <td>0.329488</td>\n",
       "      <td>0.272306</td>\n",
       "      <td>0.413490</td>\n",
       "      <td>1.222929</td>\n",
       "    </tr>\n",
       "    <tr>\n",
       "      <th>1</th>\n",
       "      <td>-1.723231</td>\n",
       "      <td>0.476533</td>\n",
       "      <td>0.733389</td>\n",
       "      <td>0.276349</td>\n",
       "      <td>-0.542684</td>\n",
       "      <td>-0.384900</td>\n",
       "      <td>0.210355</td>\n",
       "      <td>0.600453</td>\n",
       "      <td>0.004193</td>\n",
       "      <td>0.272306</td>\n",
       "      <td>0.413490</td>\n",
       "      <td>-1.313356</td>\n",
       "    </tr>\n",
       "    <tr>\n",
       "      <th>2</th>\n",
       "      <td>-1.717350</td>\n",
       "      <td>0.476533</td>\n",
       "      <td>0.733389</td>\n",
       "      <td>-0.728402</td>\n",
       "      <td>-0.542684</td>\n",
       "      <td>2.598076</td>\n",
       "      <td>-0.545269</td>\n",
       "      <td>-1.089890</td>\n",
       "      <td>-1.402404</td>\n",
       "      <td>0.272306</td>\n",
       "      <td>0.413490</td>\n",
       "      <td>1.222929</td>\n",
       "    </tr>\n",
       "    <tr>\n",
       "      <th>3</th>\n",
       "      <td>-1.711469</td>\n",
       "      <td>0.476533</td>\n",
       "      <td>0.733389</td>\n",
       "      <td>-0.728402</td>\n",
       "      <td>1.842694</td>\n",
       "      <td>-0.384900</td>\n",
       "      <td>-0.799649</td>\n",
       "      <td>0.872065</td>\n",
       "      <td>-0.146914</td>\n",
       "      <td>0.272306</td>\n",
       "      <td>0.413490</td>\n",
       "      <td>1.222929</td>\n",
       "    </tr>\n",
       "    <tr>\n",
       "      <th>4</th>\n",
       "      <td>-1.705587</td>\n",
       "      <td>0.476533</td>\n",
       "      <td>-1.363533</td>\n",
       "      <td>-0.728402</td>\n",
       "      <td>-0.542684</td>\n",
       "      <td>-0.384900</td>\n",
       "      <td>0.719268</td>\n",
       "      <td>-1.089890</td>\n",
       "      <td>0.236846</td>\n",
       "      <td>0.272306</td>\n",
       "      <td>0.413490</td>\n",
       "      <td>1.222929</td>\n",
       "    </tr>\n",
       "    <tr>\n",
       "      <th>...</th>\n",
       "      <td>...</td>\n",
       "      <td>...</td>\n",
       "      <td>...</td>\n",
       "      <td>...</td>\n",
       "      <td>...</td>\n",
       "      <td>...</td>\n",
       "      <td>...</td>\n",
       "      <td>...</td>\n",
       "      <td>...</td>\n",
       "      <td>...</td>\n",
       "      <td>...</td>\n",
       "      <td>...</td>\n",
       "    </tr>\n",
       "    <tr>\n",
       "      <th>584</th>\n",
       "      <td>1.705587</td>\n",
       "      <td>-2.098492</td>\n",
       "      <td>-1.363533</td>\n",
       "      <td>-0.728402</td>\n",
       "      <td>-0.542684</td>\n",
       "      <td>-0.384900</td>\n",
       "      <td>-0.603449</td>\n",
       "      <td>-1.089890</td>\n",
       "      <td>-1.262120</td>\n",
       "      <td>0.272306</td>\n",
       "      <td>0.413490</td>\n",
       "      <td>-1.313356</td>\n",
       "    </tr>\n",
       "    <tr>\n",
       "      <th>585</th>\n",
       "      <td>1.711469</td>\n",
       "      <td>0.476533</td>\n",
       "      <td>0.733389</td>\n",
       "      <td>2.285851</td>\n",
       "      <td>-0.542684</td>\n",
       "      <td>-0.384900</td>\n",
       "      <td>0.009217</td>\n",
       "      <td>-1.089890</td>\n",
       "      <td>-2.277669</td>\n",
       "      <td>-2.525162</td>\n",
       "      <td>0.413490</td>\n",
       "      <td>-1.313356</td>\n",
       "    </tr>\n",
       "    <tr>\n",
       "      <th>586</th>\n",
       "      <td>1.717350</td>\n",
       "      <td>0.476533</td>\n",
       "      <td>0.733389</td>\n",
       "      <td>0.276349</td>\n",
       "      <td>-0.542684</td>\n",
       "      <td>-0.384900</td>\n",
       "      <td>1.306708</td>\n",
       "      <td>-0.173856</td>\n",
       "      <td>1.814515</td>\n",
       "      <td>0.272306</td>\n",
       "      <td>0.413490</td>\n",
       "      <td>1.222929</td>\n",
       "    </tr>\n",
       "    <tr>\n",
       "      <th>587</th>\n",
       "      <td>1.723231</td>\n",
       "      <td>0.476533</td>\n",
       "      <td>0.733389</td>\n",
       "      <td>1.281100</td>\n",
       "      <td>-0.542684</td>\n",
       "      <td>-0.384900</td>\n",
       "      <td>1.180528</td>\n",
       "      <td>-1.089890</td>\n",
       "      <td>0.960472</td>\n",
       "      <td>0.272306</td>\n",
       "      <td>0.413490</td>\n",
       "      <td>1.222929</td>\n",
       "    </tr>\n",
       "    <tr>\n",
       "      <th>588</th>\n",
       "      <td>1.729113</td>\n",
       "      <td>-2.098492</td>\n",
       "      <td>-1.363533</td>\n",
       "      <td>-0.728402</td>\n",
       "      <td>-0.542684</td>\n",
       "      <td>2.598076</td>\n",
       "      <td>0.210355</td>\n",
       "      <td>-1.089890</td>\n",
       "      <td>0.095461</td>\n",
       "      <td>0.272306</td>\n",
       "      <td>-2.418437</td>\n",
       "      <td>-0.045214</td>\n",
       "    </tr>\n",
       "  </tbody>\n",
       "</table>\n",
       "<p>589 rows × 12 columns</p>\n",
       "</div>"
      ],
      "text/plain": [
       "           0         1         2         3         4         5         6   \\\n",
       "0   -1.729113  0.476533 -1.363533 -0.728402 -0.542684 -0.384900  0.670135   \n",
       "1   -1.723231  0.476533  0.733389  0.276349 -0.542684 -0.384900  0.210355   \n",
       "2   -1.717350  0.476533  0.733389 -0.728402 -0.542684  2.598076 -0.545269   \n",
       "3   -1.711469  0.476533  0.733389 -0.728402  1.842694 -0.384900 -0.799649   \n",
       "4   -1.705587  0.476533 -1.363533 -0.728402 -0.542684 -0.384900  0.719268   \n",
       "..        ...       ...       ...       ...       ...       ...       ...   \n",
       "584  1.705587 -2.098492 -1.363533 -0.728402 -0.542684 -0.384900 -0.603449   \n",
       "585  1.711469  0.476533  0.733389  2.285851 -0.542684 -0.384900  0.009217   \n",
       "586  1.717350  0.476533  0.733389  0.276349 -0.542684 -0.384900  1.306708   \n",
       "587  1.723231  0.476533  0.733389  1.281100 -0.542684 -0.384900  1.180528   \n",
       "588  1.729113 -2.098492 -1.363533 -0.728402 -0.542684  2.598076  0.210355   \n",
       "\n",
       "           7         8         9         10        11  \n",
       "0   -1.089890  0.329488  0.272306  0.413490  1.222929  \n",
       "1    0.600453  0.004193  0.272306  0.413490 -1.313356  \n",
       "2   -1.089890 -1.402404  0.272306  0.413490  1.222929  \n",
       "3    0.872065 -0.146914  0.272306  0.413490  1.222929  \n",
       "4   -1.089890  0.236846  0.272306  0.413490  1.222929  \n",
       "..        ...       ...       ...       ...       ...  \n",
       "584 -1.089890 -1.262120  0.272306  0.413490 -1.313356  \n",
       "585 -1.089890 -2.277669 -2.525162  0.413490 -1.313356  \n",
       "586 -0.173856  1.814515  0.272306  0.413490  1.222929  \n",
       "587 -1.089890  0.960472  0.272306  0.413490  1.222929  \n",
       "588 -1.089890  0.095461  0.272306 -2.418437 -0.045214  \n",
       "\n",
       "[589 rows x 12 columns]"
      ]
     },
     "execution_count": 112,
     "metadata": {},
     "output_type": "execute_result"
    }
   ],
   "source": [
    "x1=pd.DataFrame(data=x1)\n",
    "x1"
   ]
  },
  {
   "cell_type": "code",
   "execution_count": 113,
   "id": "7e5f0585",
   "metadata": {},
   "outputs": [
    {
     "data": {
      "text/html": [
       "<div>\n",
       "<style scoped>\n",
       "    .dataframe tbody tr th:only-of-type {\n",
       "        vertical-align: middle;\n",
       "    }\n",
       "\n",
       "    .dataframe tbody tr th {\n",
       "        vertical-align: top;\n",
       "    }\n",
       "\n",
       "    .dataframe thead th {\n",
       "        text-align: right;\n",
       "    }\n",
       "</style>\n",
       "<table border=\"1\" class=\"dataframe\">\n",
       "  <thead>\n",
       "    <tr style=\"text-align: right;\">\n",
       "      <th></th>\n",
       "      <th>VIF Factor</th>\n",
       "      <th>features</th>\n",
       "    </tr>\n",
       "  </thead>\n",
       "  <tbody>\n",
       "    <tr>\n",
       "      <th>0</th>\n",
       "      <td>1.038823</td>\n",
       "      <td>0</td>\n",
       "    </tr>\n",
       "    <tr>\n",
       "      <th>1</th>\n",
       "      <td>1.214883</td>\n",
       "      <td>1</td>\n",
       "    </tr>\n",
       "    <tr>\n",
       "      <th>2</th>\n",
       "      <td>1.397014</td>\n",
       "      <td>2</td>\n",
       "    </tr>\n",
       "    <tr>\n",
       "      <th>3</th>\n",
       "      <td>1.181017</td>\n",
       "      <td>3</td>\n",
       "    </tr>\n",
       "    <tr>\n",
       "      <th>4</th>\n",
       "      <td>1.067064</td>\n",
       "      <td>4</td>\n",
       "    </tr>\n",
       "    <tr>\n",
       "      <th>5</th>\n",
       "      <td>1.059346</td>\n",
       "      <td>5</td>\n",
       "    </tr>\n",
       "    <tr>\n",
       "      <th>6</th>\n",
       "      <td>1.788491</td>\n",
       "      <td>6</td>\n",
       "    </tr>\n",
       "    <tr>\n",
       "      <th>7</th>\n",
       "      <td>1.608227</td>\n",
       "      <td>7</td>\n",
       "    </tr>\n",
       "    <tr>\n",
       "      <th>8</th>\n",
       "      <td>1.625519</td>\n",
       "      <td>8</td>\n",
       "    </tr>\n",
       "    <tr>\n",
       "      <th>9</th>\n",
       "      <td>1.057827</td>\n",
       "      <td>9</td>\n",
       "    </tr>\n",
       "    <tr>\n",
       "      <th>10</th>\n",
       "      <td>1.010623</td>\n",
       "      <td>10</td>\n",
       "    </tr>\n",
       "    <tr>\n",
       "      <th>11</th>\n",
       "      <td>1.056818</td>\n",
       "      <td>11</td>\n",
       "    </tr>\n",
       "  </tbody>\n",
       "</table>\n",
       "</div>"
      ],
      "text/plain": [
       "    VIF Factor  features\n",
       "0     1.038823         0\n",
       "1     1.214883         1\n",
       "2     1.397014         2\n",
       "3     1.181017         3\n",
       "4     1.067064         4\n",
       "5     1.059346         5\n",
       "6     1.788491         6\n",
       "7     1.608227         7\n",
       "8     1.625519         8\n",
       "9     1.057827         9\n",
       "10    1.010623        10\n",
       "11    1.056818        11"
      ]
     },
     "execution_count": 113,
     "metadata": {},
     "output_type": "execute_result"
    }
   ],
   "source": [
    "from statsmodels.stats.outliers_influence import variance_inflation_factor\n",
    "vif = pd.DataFrame()\n",
    "vif[\"VIF Factor\"] = [variance_inflation_factor(x1.values, i) for i in range(x1.shape[1])]\n",
    "vif[\"features\"] = x1.columns\n",
    "vif"
   ]
  },
  {
   "cell_type": "markdown",
   "id": "5667bf9f",
   "metadata": {},
   "source": [
    "From the above data frame it is clear that the dataset is free from multicolinearity problem"
   ]
  },
  {
   "cell_type": "code",
   "execution_count": 114,
   "id": "23bccad0",
   "metadata": {},
   "outputs": [
    {
     "data": {
      "text/plain": [
       "1    407\n",
       "0    182\n",
       "Name: Loan_Status, dtype: int64"
      ]
     },
     "execution_count": 114,
     "metadata": {},
     "output_type": "execute_result"
    }
   ],
   "source": [
    "y1.value_counts()"
   ]
  },
  {
   "cell_type": "code",
   "execution_count": 115,
   "id": "00fb4fbf",
   "metadata": {},
   "outputs": [
    {
     "data": {
      "text/plain": [
       "1    407\n",
       "0    407\n",
       "Name: Loan_Status, dtype: int64"
      ]
     },
     "execution_count": 115,
     "metadata": {},
     "output_type": "execute_result"
    }
   ],
   "source": [
    "#BALANCING THE DATA SET\n",
    "from imblearn.over_sampling import SMOTE\n",
    "SM=SMOTE()\n",
    "x1,y1=SM.fit_resample(x1,y1)\n",
    "y1.value_counts()"
   ]
  },
  {
   "cell_type": "markdown",
   "id": "6d9471a5",
   "metadata": {},
   "source": [
    "MODELLING"
   ]
  },
  {
   "cell_type": "code",
   "execution_count": 122,
   "id": "f19b5871",
   "metadata": {},
   "outputs": [],
   "source": [
    "from sklearn.model_selection import train_test_split\n",
    "from sklearn.linear_model import LogisticRegression\n",
    "from sklearn.metrics import accuracy_score\n",
    "from sklearn.metrics import confusion_matrix\n",
    "from sklearn.metrics import classification_report\n",
    "from sklearn.metrics import roc_curve\n",
    "from sklearn.model_selection import cross_val_score,KFold"
   ]
  },
  {
   "cell_type": "code",
   "execution_count": 117,
   "id": "c3ddc119",
   "metadata": {},
   "outputs": [],
   "source": [
    "x1_train,x1_test,y1_train,y1_test=train_test_split(x1,y1,test_size=0.30,random_state=42)"
   ]
  },
  {
   "cell_type": "code",
   "execution_count": 118,
   "id": "5ed0ae6a",
   "metadata": {},
   "outputs": [
    {
     "name": "stdout",
     "output_type": "stream",
     "text": [
      "(569, 12)\n",
      "(569,)\n",
      "(245, 12)\n",
      "(245,)\n"
     ]
    }
   ],
   "source": [
    "print(x1_train.shape)\n",
    "print(y1_train.shape)\n",
    "print(x1_test.shape)\n",
    "print(y1_test.shape)"
   ]
  },
  {
   "cell_type": "code",
   "execution_count": 123,
   "id": "284b51c4",
   "metadata": {},
   "outputs": [
    {
     "name": "stdout",
     "output_type": "stream",
     "text": [
      "0.7142857142857143\n",
      "[[ 70  52]\n",
      " [ 18 105]]\n",
      "              precision    recall  f1-score   support\n",
      "\n",
      "           0       0.80      0.57      0.67       122\n",
      "           1       0.67      0.85      0.75       123\n",
      "\n",
      "    accuracy                           0.71       245\n",
      "   macro avg       0.73      0.71      0.71       245\n",
      "weighted avg       0.73      0.71      0.71       245\n",
      "\n",
      "[0.71165644 0.68711656 0.73006135 0.72392638 0.68518519]\n",
      "0.7075891842763008\n",
      "0.006696530009413504\n"
     ]
    }
   ],
   "source": [
    "m1=LogisticRegression()\n",
    "m1.fit(x1_train,y1_train)\n",
    "testprediction1=m1.predict(x1_test)\n",
    "print(accuracy_score(y1_test,testprediction1))\n",
    "print(confusion_matrix(y1_test,testprediction1))\n",
    "print(classification_report(y1_test,testprediction1))\n",
    "kfold=KFold(n_splits=5,shuffle=True)\n",
    "score1=cross_val_score(m1,x1,y1,cv=kfold)\n",
    "print(score1)\n",
    "print(score1.mean())\n",
    "print(((accuracy_score(y1_test,testprediction1))-score1.mean()))"
   ]
  },
  {
   "cell_type": "code",
   "execution_count": 125,
   "id": "9cc2bd95",
   "metadata": {},
   "outputs": [
    {
     "name": "stdout",
     "output_type": "stream",
     "text": [
      "0.8530612244897959\n",
      "[[ 96  26]\n",
      " [ 10 113]]\n",
      "              precision    recall  f1-score   support\n",
      "\n",
      "           0       0.91      0.79      0.84       122\n",
      "           1       0.81      0.92      0.86       123\n",
      "\n",
      "    accuracy                           0.85       245\n",
      "   macro avg       0.86      0.85      0.85       245\n",
      "weighted avg       0.86      0.85      0.85       245\n",
      "\n",
      "[0.87730061 0.82208589 0.88343558 0.87730061 0.80246914]\n",
      "0.8525183670377944\n",
      "0.000542857452001555\n"
     ]
    }
   ],
   "source": [
    "from sklearn.ensemble import RandomForestClassifier\n",
    "m2=RandomForestClassifier()\n",
    "m2.fit(x1_train,y1_train)\n",
    "testprediction2=m2.predict(x1_test)\n",
    "print(accuracy_score(y1_test,testprediction2))\n",
    "print(confusion_matrix(y1_test,testprediction2))\n",
    "print(classification_report(y1_test,testprediction2))\n",
    "kfold=KFold(n_splits=5,shuffle=True)\n",
    "score2=cross_val_score(m2,x1,y1,cv=kfold)\n",
    "print(score2)\n",
    "print(score2.mean())\n",
    "print(((accuracy_score(y1_test,testprediction2))-score2.mean()))"
   ]
  },
  {
   "cell_type": "code",
   "execution_count": 126,
   "id": "f00a0ab4",
   "metadata": {},
   "outputs": [
    {
     "name": "stdout",
     "output_type": "stream",
     "text": [
      "0.8571428571428571\n",
      "[[102  20]\n",
      " [ 15 108]]\n",
      "              precision    recall  f1-score   support\n",
      "\n",
      "           0       0.87      0.84      0.85       122\n",
      "           1       0.84      0.88      0.86       123\n",
      "\n",
      "    accuracy                           0.86       245\n",
      "   macro avg       0.86      0.86      0.86       245\n",
      "weighted avg       0.86      0.86      0.86       245\n",
      "\n",
      "[0.88957055 0.86503067 0.8404908  0.84662577 0.84567901]\n",
      "0.8574793607513443\n",
      "-0.0003365036084872486\n"
     ]
    }
   ],
   "source": [
    "from sklearn.ensemble import ExtraTreesClassifier\n",
    "m3=ExtraTreesClassifier()\n",
    "m3.fit(x1_train,y1_train)\n",
    "testprediction3=m3.predict(x1_test)\n",
    "print(accuracy_score(y1_test,testprediction3))\n",
    "print(confusion_matrix(y1_test,testprediction3))\n",
    "print(classification_report(y1_test,testprediction3))\n",
    "kfold=KFold(n_splits=5,shuffle=True)\n",
    "score3=cross_val_score(m3,x1,y1,cv=kfold)\n",
    "print(score3)\n",
    "print(score3.mean())\n",
    "print(((accuracy_score(y1_test,testprediction3))-score3.mean()))"
   ]
  },
  {
   "cell_type": "code",
   "execution_count": 127,
   "id": "dd8e8a68",
   "metadata": {},
   "outputs": [
    {
     "name": "stdout",
     "output_type": "stream",
     "text": [
      "0.8285714285714286\n",
      "[[ 91  31]\n",
      " [ 11 112]]\n",
      "              precision    recall  f1-score   support\n",
      "\n",
      "           0       0.89      0.75      0.81       122\n",
      "           1       0.78      0.91      0.84       123\n",
      "\n",
      "    accuracy                           0.83       245\n",
      "   macro avg       0.84      0.83      0.83       245\n",
      "weighted avg       0.84      0.83      0.83       245\n",
      "\n",
      "[0.82208589 0.80368098 0.82822086 0.82208589 0.83950617]\n",
      "0.8231159584942815\n",
      "0.005455470077147084\n"
     ]
    }
   ],
   "source": [
    "from sklearn.ensemble import GradientBoostingClassifier\n",
    "m4=GradientBoostingClassifier()\n",
    "m4.fit(x1_train,y1_train)\n",
    "testprediction4=m4.predict(x1_test)\n",
    "print(accuracy_score(y1_test,testprediction4))\n",
    "print(confusion_matrix(y1_test,testprediction4))\n",
    "print(classification_report(y1_test,testprediction4))\n",
    "kfold=KFold(n_splits=5,shuffle=True)\n",
    "score4=cross_val_score(m4,x1,y1,cv=kfold)\n",
    "print(score4)\n",
    "print(score4.mean())\n",
    "print(((accuracy_score(y1_test,testprediction4))-score4.mean()))"
   ]
  },
  {
   "cell_type": "code",
   "execution_count": 129,
   "id": "6bd6e81c",
   "metadata": {},
   "outputs": [
    {
     "name": "stdout",
     "output_type": "stream",
     "text": [
      "0.7795918367346939\n",
      "[[ 90  32]\n",
      " [ 22 101]]\n",
      "              precision    recall  f1-score   support\n",
      "\n",
      "           0       0.80      0.74      0.77       122\n",
      "           1       0.76      0.82      0.79       123\n",
      "\n",
      "    accuracy                           0.78       245\n",
      "   macro avg       0.78      0.78      0.78       245\n",
      "weighted avg       0.78      0.78      0.78       245\n",
      "\n",
      "[0.76687117 0.79141104 0.78527607 0.77300613 0.7654321 ]\n",
      "0.7763993031886691\n",
      "0.0031925335460247783\n"
     ]
    }
   ],
   "source": [
    "from sklearn.ensemble import AdaBoostClassifier\n",
    "m5=AdaBoostClassifier()\n",
    "m5.fit(x1_train,y1_train)\n",
    "testprediction5=m5.predict(x1_test)\n",
    "print(accuracy_score(y1_test,testprediction5))\n",
    "print(confusion_matrix(y1_test,testprediction5))\n",
    "print(classification_report(y1_test,testprediction5))\n",
    "kfold=KFold(n_splits=5,shuffle=True)\n",
    "score5=cross_val_score(m5,x1,y1,cv=kfold)\n",
    "print(score5)\n",
    "print(score5.mean())\n",
    "print(((accuracy_score(y1_test,testprediction5))-score5.mean()))"
   ]
  },
  {
   "cell_type": "code",
   "execution_count": 130,
   "id": "643686e4",
   "metadata": {},
   "outputs": [
    {
     "name": "stdout",
     "output_type": "stream",
     "text": [
      "0.8204081632653061\n",
      "[[103  19]\n",
      " [ 25  98]]\n",
      "              precision    recall  f1-score   support\n",
      "\n",
      "           0       0.80      0.84      0.82       122\n",
      "           1       0.84      0.80      0.82       123\n",
      "\n",
      "    accuracy                           0.82       245\n",
      "   macro avg       0.82      0.82      0.82       245\n",
      "weighted avg       0.82      0.82      0.82       245\n",
      "\n",
      "[0.88957055 0.74233129 0.80368098 0.80368098 0.82716049]\n",
      "0.8132848595016284\n",
      "0.007123303763677646\n"
     ]
    }
   ],
   "source": [
    "from sklearn.ensemble import BaggingClassifier\n",
    "m6=BaggingClassifier()\n",
    "m6.fit(x1_train,y1_train)\n",
    "testprediction6=m6.predict(x1_test)\n",
    "print(accuracy_score(y1_test,testprediction6))\n",
    "print(confusion_matrix(y1_test,testprediction6))\n",
    "print(classification_report(y1_test,testprediction6))\n",
    "kfold=KFold(n_splits=5,shuffle=True)\n",
    "score6=cross_val_score(m6,x1,y1,cv=kfold)\n",
    "print(score6)\n",
    "print(score6.mean())\n",
    "print(((accuracy_score(y1_test,testprediction6))-score6.mean()))"
   ]
  },
  {
   "cell_type": "code",
   "execution_count": 131,
   "id": "a23e67ac",
   "metadata": {},
   "outputs": [
    {
     "name": "stdout",
     "output_type": "stream",
     "text": [
      "0.7714285714285715\n",
      "[[ 82  40]\n",
      " [ 16 107]]\n",
      "              precision    recall  f1-score   support\n",
      "\n",
      "           0       0.84      0.67      0.75       122\n",
      "           1       0.73      0.87      0.79       123\n",
      "\n",
      "    accuracy                           0.77       245\n",
      "   macro avg       0.78      0.77      0.77       245\n",
      "weighted avg       0.78      0.77      0.77       245\n",
      "\n",
      "[0.73619632 0.77300613 0.80368098 0.74233129 0.77777778]\n",
      "0.7665985003408317\n",
      "0.004830071087739807\n"
     ]
    }
   ],
   "source": [
    "from sklearn.svm import SVC\n",
    "m7=SVC()\n",
    "m7.fit(x1_train,y1_train)\n",
    "testprediction7=m7.predict(x1_test)\n",
    "print(accuracy_score(y1_test,testprediction7))\n",
    "print(confusion_matrix(y1_test,testprediction7))\n",
    "print(classification_report(y1_test,testprediction7))\n",
    "kfold=KFold(n_splits=5,shuffle=True)\n",
    "score7=cross_val_score(m7,x1,y1,cv=kfold)\n",
    "print(score7)\n",
    "print(score7.mean())\n",
    "print(((accuracy_score(y1_test,testprediction7))-score7.mean()))"
   ]
  },
  {
   "cell_type": "code",
   "execution_count": 132,
   "id": "ea8bfb38",
   "metadata": {},
   "outputs": [
    {
     "name": "stdout",
     "output_type": "stream",
     "text": [
      "0.7591836734693878\n",
      "[[94 28]\n",
      " [31 92]]\n",
      "              precision    recall  f1-score   support\n",
      "\n",
      "           0       0.75      0.77      0.76       122\n",
      "           1       0.77      0.75      0.76       123\n",
      "\n",
      "    accuracy                           0.76       245\n",
      "   macro avg       0.76      0.76      0.76       245\n",
      "weighted avg       0.76      0.76      0.76       245\n",
      "\n",
      "[0.8404908  0.80368098 0.80981595 0.73619632 0.77777778]\n",
      "0.7935923653715065\n",
      "-0.034408691902118704\n"
     ]
    }
   ],
   "source": [
    "from sklearn.tree import DecisionTreeClassifier\n",
    "m8=DecisionTreeClassifier()\n",
    "m8.fit(x1_train,y1_train)\n",
    "testprediction8=m8.predict(x1_test)\n",
    "print(accuracy_score(y1_test,testprediction8))\n",
    "print(confusion_matrix(y1_test,testprediction8))\n",
    "print(classification_report(y1_test,testprediction8))\n",
    "kfold=KFold(n_splits=5,shuffle=True)\n",
    "score8=cross_val_score(m8,x1,y1,cv=kfold)\n",
    "print(score8)\n",
    "print(score8.mean())\n",
    "print(((accuracy_score(y1_test,testprediction8))-score8.mean()))"
   ]
  },
  {
   "cell_type": "markdown",
   "id": "50ebef11",
   "metadata": {},
   "source": [
    "Based on the above results Extra Tree Classifer is selected as the best model"
   ]
  },
  {
   "cell_type": "code",
   "execution_count": 133,
   "id": "0876d4c7",
   "metadata": {},
   "outputs": [
    {
     "data": {
      "text/plain": [
       "GridSearchCV(cv=5, estimator=ExtraTreesClassifier(),\n",
       "             param_grid={'bootstrap': [True, False],\n",
       "                         'criterion': ['gini', 'entropy', 'log_loss'],\n",
       "                         'n_jobs': [-1, 1], 'oob_score': [True, False],\n",
       "                         'random_state': [10, 12, 42, 50],\n",
       "                         'warm_start': [True, False]})"
      ]
     },
     "execution_count": 133,
     "metadata": {},
     "output_type": "execute_result"
    }
   ],
   "source": [
    "from sklearn.model_selection import GridSearchCV\n",
    "parameters={'criterion':['gini','entropy','log_loss'],'bootstrap':[True,False],'warm_start':[True,False],'n_jobs':[-1,1],'random_state':[10,12,42,50],'oob_score':[True,False]}\n",
    "gridsearchcv=GridSearchCV(ExtraTreesClassifier(),parameters,cv=5)\n",
    "gridsearchcv.fit(x1_train,y1_train)                      "
   ]
  },
  {
   "cell_type": "code",
   "execution_count": 134,
   "id": "4b5c68b9",
   "metadata": {},
   "outputs": [
    {
     "data": {
      "text/plain": [
       "{'bootstrap': False,\n",
       " 'criterion': 'gini',\n",
       " 'n_jobs': -1,\n",
       " 'oob_score': False,\n",
       " 'random_state': 10,\n",
       " 'warm_start': True}"
      ]
     },
     "execution_count": 134,
     "metadata": {},
     "output_type": "execute_result"
    }
   ],
   "source": [
    "gridsearchcv.best_params_"
   ]
  },
  {
   "cell_type": "code",
   "execution_count": 135,
   "id": "8e6f50d2",
   "metadata": {},
   "outputs": [
    {
     "name": "stdout",
     "output_type": "stream",
     "text": [
      "0.8367346938775511\n"
     ]
    }
   ],
   "source": [
    "best_model=ExtraTreesClassifier(criterion='gini',n_jobs=-1,random_state=10,bootstrap=False,oob_score=False,warm_start=True)\n",
    "best_model.fit(x1_train,y1_train)\n",
    "prediction=best_model.predict(x1_test)\n",
    "accuracy=accuracy_score(y1_test,prediction)\n",
    "print(accuracy)"
   ]
  },
  {
   "cell_type": "code",
   "execution_count": 136,
   "id": "8f96c904",
   "metadata": {},
   "outputs": [
    {
     "data": {
      "text/plain": [
       "['loan.obj']"
      ]
     },
     "execution_count": 136,
     "metadata": {},
     "output_type": "execute_result"
    }
   ],
   "source": [
    "#SAVING THE BEST MODEL\n",
    "import joblib\n",
    "joblib.dump(best_model,\"loan.obj\")"
   ]
  },
  {
   "cell_type": "code",
   "execution_count": 137,
   "id": "7623e8fa",
   "metadata": {},
   "outputs": [
    {
     "data": {
      "text/plain": [
       "array([1, 0, 1, 0, 1, 0, 1, 1, 1, 1, 1, 1, 1, 0, 0, 0, 1, 0, 1, 0, 1, 1,\n",
       "       0, 1, 0, 0, 0, 1, 1, 1, 0, 0, 0, 0, 0, 1, 1, 1, 0, 1, 0, 0, 0, 0,\n",
       "       1, 1, 1, 0, 0, 1, 0, 0, 0, 0, 1, 1, 0, 1, 1, 1, 0, 1, 1, 0, 1, 1,\n",
       "       1, 1, 1, 1, 0, 0, 0, 0, 1, 1, 0, 1, 0, 1, 0, 0, 0, 0, 0, 1, 1, 1,\n",
       "       0, 1, 0, 1, 1, 0, 1, 1, 1, 1, 1, 0, 1, 1, 0, 1, 1, 1, 0, 1, 1, 1,\n",
       "       0, 0, 1, 1, 0, 1, 1, 1, 0, 1, 0, 0, 0, 1, 1, 1, 0, 0, 1, 1, 1, 0,\n",
       "       1, 0, 1, 0, 1, 0, 0, 1, 0, 0, 0, 1, 0, 1, 0, 0, 1, 0, 1, 0, 0, 1,\n",
       "       0, 0, 1, 0, 0, 1, 0, 1, 0, 0, 1, 1, 0, 0, 0, 1, 1, 1, 1, 0, 1, 1,\n",
       "       0, 0, 1, 0, 1, 1, 0, 1, 0, 1, 0, 1, 1, 0, 1, 1, 0, 1, 0, 1, 0, 0,\n",
       "       1, 0, 1, 0, 1, 0, 1, 0, 0, 1, 0, 1, 0, 1, 0, 1, 0, 0, 0, 1, 1, 0,\n",
       "       1, 1, 0, 0, 1, 1, 1, 0, 0, 1, 1, 1, 1, 0, 0, 1, 0, 0, 0, 0, 1, 1,\n",
       "       1, 1, 0])"
      ]
     },
     "execution_count": 137,
     "metadata": {},
     "output_type": "execute_result"
    }
   ],
   "source": [
    "reload=joblib.load('loan.obj')\n",
    "reload.predict(x1_test)"
   ]
  },
  {
   "cell_type": "code",
   "execution_count": 138,
   "id": "98f9bb8d",
   "metadata": {},
   "outputs": [
    {
     "name": "stdout",
     "output_type": "stream",
     "text": [
      "0.8367346938775511\n"
     ]
    }
   ],
   "source": [
    "import pickle\n",
    "filename='loan.pkl'\n",
    "pickle.dump(best_model,open(filename,'wb'))\n",
    "loaded_model=pickle.load(open('loan.pkl','rb'))\n",
    "result=loaded_model.score(x1_test,y1_test)\n",
    "print(result)"
   ]
  },
  {
   "cell_type": "code",
   "execution_count": 139,
   "id": "4576bee4",
   "metadata": {},
   "outputs": [
    {
     "data": {
      "text/html": [
       "<div>\n",
       "<style scoped>\n",
       "    .dataframe tbody tr th:only-of-type {\n",
       "        vertical-align: middle;\n",
       "    }\n",
       "\n",
       "    .dataframe tbody tr th {\n",
       "        vertical-align: top;\n",
       "    }\n",
       "\n",
       "    .dataframe thead th {\n",
       "        text-align: right;\n",
       "    }\n",
       "</style>\n",
       "<table border=\"1\" class=\"dataframe\">\n",
       "  <thead>\n",
       "    <tr style=\"text-align: right;\">\n",
       "      <th></th>\n",
       "      <th>0</th>\n",
       "      <th>1</th>\n",
       "      <th>2</th>\n",
       "      <th>3</th>\n",
       "      <th>4</th>\n",
       "      <th>5</th>\n",
       "      <th>6</th>\n",
       "      <th>7</th>\n",
       "      <th>8</th>\n",
       "      <th>9</th>\n",
       "      <th>...</th>\n",
       "      <th>235</th>\n",
       "      <th>236</th>\n",
       "      <th>237</th>\n",
       "      <th>238</th>\n",
       "      <th>239</th>\n",
       "      <th>240</th>\n",
       "      <th>241</th>\n",
       "      <th>242</th>\n",
       "      <th>243</th>\n",
       "      <th>244</th>\n",
       "    </tr>\n",
       "  </thead>\n",
       "  <tbody>\n",
       "    <tr>\n",
       "      <th>0</th>\n",
       "      <td>1</td>\n",
       "      <td>0</td>\n",
       "      <td>1</td>\n",
       "      <td>0</td>\n",
       "      <td>1</td>\n",
       "      <td>0</td>\n",
       "      <td>1</td>\n",
       "      <td>1</td>\n",
       "      <td>1</td>\n",
       "      <td>1</td>\n",
       "      <td>...</td>\n",
       "      <td>1</td>\n",
       "      <td>0</td>\n",
       "      <td>0</td>\n",
       "      <td>0</td>\n",
       "      <td>0</td>\n",
       "      <td>1</td>\n",
       "      <td>1</td>\n",
       "      <td>1</td>\n",
       "      <td>1</td>\n",
       "      <td>0</td>\n",
       "    </tr>\n",
       "    <tr>\n",
       "      <th>1</th>\n",
       "      <td>1</td>\n",
       "      <td>0</td>\n",
       "      <td>1</td>\n",
       "      <td>0</td>\n",
       "      <td>1</td>\n",
       "      <td>0</td>\n",
       "      <td>1</td>\n",
       "      <td>1</td>\n",
       "      <td>1</td>\n",
       "      <td>1</td>\n",
       "      <td>...</td>\n",
       "      <td>1</td>\n",
       "      <td>0</td>\n",
       "      <td>1</td>\n",
       "      <td>0</td>\n",
       "      <td>0</td>\n",
       "      <td>1</td>\n",
       "      <td>1</td>\n",
       "      <td>1</td>\n",
       "      <td>1</td>\n",
       "      <td>0</td>\n",
       "    </tr>\n",
       "  </tbody>\n",
       "</table>\n",
       "<p>2 rows × 245 columns</p>\n",
       "</div>"
      ],
      "text/plain": [
       "   0    1    2    3    4    5    6    7    8    9    ...  235  236  237  238  \\\n",
       "0    1    0    1    0    1    0    1    1    1    1  ...    1    0    0    0   \n",
       "1    1    0    1    0    1    0    1    1    1    1  ...    1    0    1    0   \n",
       "\n",
       "   239  240  241  242  243  244  \n",
       "0    0    1    1    1    1    0  \n",
       "1    0    1    1    1    1    0  \n",
       "\n",
       "[2 rows x 245 columns]"
      ]
     },
     "execution_count": 139,
     "metadata": {},
     "output_type": "execute_result"
    }
   ],
   "source": [
    "ds6=pd.DataFrame([loaded_model.predict(x1_test)[:],y1_test[:]])\n",
    "ds6"
   ]
  },
  {
   "cell_type": "code",
   "execution_count": 140,
   "id": "0984f4f7",
   "metadata": {},
   "outputs": [
    {
     "name": "stdout",
     "output_type": "stream",
     "text": [
      "PREDICTED VALUE: [1]\n",
      "LOAN APPROVED\n"
     ]
    }
   ],
   "source": [
    "def predict(loan_approval):\n",
    "    loan_approval=loan_approval.reshape(1,-1)\n",
    "    pred=best_model.predict(loan_approval)\n",
    "    print(\"PREDICTED VALUE:\",pred)\n",
    "    if pred==1:\n",
    "        print(\"LOAN APPROVED\")\n",
    "    else:\n",
    "        print(\"LOAN NOT APPROVED\")\n",
    "loan_approval=np.array([-1.729113,0.476533,-1.363533,-0.728402,-0.542684,-0.384900,0.670135,-1.089890,0.329488,0.272306,0.413490,1.222929])\n",
    "predict(loan_approval)"
   ]
  }
 ],
 "metadata": {
  "kernelspec": {
   "display_name": "Python 3 (ipykernel)",
   "language": "python",
   "name": "python3"
  },
  "language_info": {
   "codemirror_mode": {
    "name": "ipython",
    "version": 3
   },
   "file_extension": ".py",
   "mimetype": "text/x-python",
   "name": "python",
   "nbconvert_exporter": "python",
   "pygments_lexer": "ipython3",
   "version": "3.9.13"
  }
 },
 "nbformat": 4,
 "nbformat_minor": 5
}
